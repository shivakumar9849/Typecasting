{
 "cells": [
  {
   "cell_type": "code",
   "execution_count": null,
   "metadata": {},
   "outputs": [],
   "source": [
    "flag=True\n",
    "print(int(flag))\n",
    "print(float(flag))\n",
    "print(complex(flag))\n",
    "print(str(flag))\n",
    "print(str(flag)[0])\n",
    "print(str(flag)[1])\n",
    "print(str(flag)[2])\n",
    "print(str(flag)[3])\n",
    "print(list(flag))"
   ]
  },
  {
   "cell_type": "code",
   "execution_count": 1,
   "metadata": {},
   "outputs": [
    {
     "name": "stdout",
     "output_type": "stream",
     "text": [
      "20\n"
     ]
    }
   ],
   "source": [
    "a=10\n",
    "b=2\n",
    "res=a*b\n",
    "print(res)"
   ]
  },
  {
   "cell_type": "code",
   "execution_count": 2,
   "metadata": {},
   "outputs": [
    {
     "name": "stdout",
     "output_type": "stream",
     "text": [
      "10.6\n"
     ]
    }
   ],
   "source": [
    "a=5.3\n",
    "v=2\n",
    "print(a*v)"
   ]
  },
  {
   "cell_type": "code",
   "execution_count": 5,
   "metadata": {},
   "outputs": [
    {
     "name": "stdout",
     "output_type": "stream",
     "text": [
      "0j\n"
     ]
    }
   ],
   "source": [
    "complex=10+4j\n",
    "d=0\n",
    "print(complex*d)"
   ]
  },
  {
   "cell_type": "code",
   "execution_count": 14,
   "metadata": {},
   "outputs": [
    {
     "name": "stdout",
     "output_type": "stream",
     "text": [
      "lucky lucky lucky lucky lucky lucky lucky lucky lucky lucky lucky lucky lucky lucky lucky lucky lucky lucky lucky lucky lucky lucky lucky lucky lucky lucky lucky lucky lucky lucky lucky lucky lucky lucky lucky lucky lucky lucky lucky lucky lucky lucky lucky lucky lucky lucky lucky lucky lucky lucky lucky lucky lucky lucky lucky lucky lucky lucky lucky lucky lucky lucky lucky lucky lucky lucky lucky lucky lucky lucky lucky lucky lucky lucky lucky lucky lucky lucky lucky lucky lucky lucky lucky lucky lucky lucky lucky lucky lucky lucky lucky lucky lucky lucky lucky lucky lucky lucky lucky lucky lucky lucky lucky lucky lucky lucky lucky lucky lucky lucky lucky lucky lucky lucky lucky lucky lucky lucky lucky lucky lucky lucky lucky lucky lucky lucky lucky lucky lucky lucky lucky lucky lucky lucky lucky lucky lucky lucky lucky lucky lucky lucky lucky lucky lucky lucky lucky lucky lucky lucky lucky lucky lucky lucky lucky lucky lucky lucky lucky lucky lucky lucky lucky lucky lucky lucky lucky lucky lucky lucky lucky lucky lucky lucky lucky lucky lucky lucky lucky lucky lucky lucky lucky lucky lucky lucky lucky lucky lucky lucky lucky lucky lucky lucky lucky lucky lucky lucky lucky lucky lucky lucky lucky lucky lucky lucky lucky lucky lucky lucky lucky lucky lucky lucky lucky lucky lucky lucky lucky lucky lucky lucky lucky lucky lucky lucky lucky lucky lucky lucky lucky lucky lucky lucky lucky lucky lucky lucky lucky lucky lucky lucky lucky lucky lucky lucky lucky lucky lucky lucky lucky lucky lucky lucky lucky lucky lucky lucky lucky lucky lucky lucky lucky lucky lucky lucky lucky lucky lucky lucky lucky lucky lucky lucky lucky lucky lucky lucky lucky lucky lucky lucky lucky lucky lucky lucky lucky lucky lucky lucky lucky lucky lucky lucky lucky lucky lucky lucky lucky lucky lucky lucky lucky lucky lucky lucky lucky lucky lucky lucky lucky lucky lucky lucky lucky lucky lucky lucky lucky lucky lucky lucky lucky lucky lucky lucky lucky lucky lucky lucky lucky lucky lucky lucky lucky lucky lucky lucky lucky lucky lucky lucky lucky lucky lucky lucky lucky lucky lucky lucky lucky lucky lucky lucky lucky lucky lucky lucky lucky lucky lucky lucky lucky lucky lucky lucky lucky lucky lucky lucky lucky lucky lucky lucky lucky lucky lucky lucky lucky lucky lucky lucky lucky lucky lucky lucky lucky lucky lucky lucky lucky lucky lucky lucky lucky lucky lucky lucky lucky lucky lucky lucky lucky lucky lucky lucky lucky lucky lucky lucky lucky lucky lucky lucky lucky lucky lucky lucky lucky lucky lucky lucky lucky lucky lucky lucky lucky lucky lucky lucky lucky lucky lucky lucky lucky lucky lucky lucky lucky lucky lucky lucky lucky lucky lucky lucky lucky lucky lucky lucky lucky lucky lucky lucky lucky lucky lucky lucky lucky lucky lucky lucky lucky lucky lucky lucky lucky lucky lucky lucky lucky lucky lucky lucky lucky lucky lucky lucky lucky lucky lucky lucky lucky lucky lucky lucky lucky lucky lucky lucky lucky lucky lucky lucky lucky lucky lucky lucky lucky lucky lucky lucky lucky lucky lucky lucky lucky lucky lucky lucky lucky lucky lucky lucky lucky lucky lucky lucky lucky lucky lucky lucky lucky lucky lucky lucky lucky lucky lucky lucky lucky lucky lucky lucky lucky lucky lucky lucky lucky lucky lucky lucky lucky lucky lucky lucky lucky lucky lucky lucky lucky lucky lucky lucky lucky lucky lucky lucky lucky lucky lucky lucky lucky lucky lucky lucky lucky lucky lucky lucky lucky lucky lucky lucky lucky lucky lucky lucky lucky lucky lucky lucky lucky lucky lucky lucky lucky lucky lucky lucky lucky lucky lucky lucky lucky lucky lucky lucky lucky lucky lucky lucky lucky lucky lucky lucky lucky lucky lucky lucky lucky lucky lucky lucky lucky lucky lucky lucky lucky lucky lucky lucky lucky lucky lucky lucky lucky lucky lucky lucky lucky lucky lucky lucky lucky lucky lucky lucky lucky lucky lucky lucky lucky lucky lucky lucky lucky lucky lucky lucky lucky lucky lucky lucky lucky lucky lucky lucky lucky lucky lucky lucky lucky lucky lucky lucky lucky lucky lucky lucky lucky lucky lucky lucky lucky lucky lucky lucky lucky lucky lucky lucky lucky lucky lucky lucky lucky lucky lucky lucky lucky lucky lucky lucky lucky lucky lucky lucky lucky lucky lucky lucky lucky lucky lucky lucky lucky lucky lucky lucky lucky lucky lucky lucky lucky lucky lucky lucky lucky lucky lucky lucky lucky lucky lucky lucky lucky lucky lucky lucky lucky lucky lucky lucky lucky lucky lucky lucky lucky lucky lucky lucky lucky lucky lucky lucky lucky lucky lucky lucky lucky lucky lucky lucky lucky lucky lucky lucky lucky lucky lucky lucky lucky lucky lucky lucky lucky lucky lucky lucky lucky lucky lucky lucky lucky lucky lucky lucky lucky lucky lucky lucky lucky lucky lucky lucky lucky lucky lucky lucky lucky lucky lucky lucky lucky lucky lucky lucky lucky lucky lucky lucky lucky lucky lucky lucky lucky lucky lucky lucky lucky lucky lucky lucky lucky lucky lucky lucky lucky lucky lucky lucky lucky lucky lucky lucky lucky lucky lucky lucky lucky lucky lucky lucky lucky lucky lucky lucky lucky lucky lucky lucky lucky lucky lucky lucky lucky lucky lucky lucky lucky lucky lucky lucky lucky lucky lucky lucky lucky lucky lucky lucky lucky lucky lucky lucky lucky lucky lucky lucky lucky lucky lucky lucky lucky lucky lucky lucky lucky lucky lucky lucky lucky lucky lucky lucky lucky lucky lucky lucky lucky lucky lucky lucky lucky lucky lucky lucky lucky lucky lucky lucky lucky lucky lucky lucky lucky lucky lucky lucky lucky lucky lucky lucky lucky lucky lucky lucky lucky lucky lucky lucky lucky lucky lucky lucky lucky lucky lucky lucky lucky lucky lucky lucky lucky lucky lucky lucky lucky lucky lucky lucky lucky lucky lucky lucky lucky lucky lucky lucky lucky lucky lucky lucky lucky lucky lucky lucky lucky lucky lucky lucky lucky lucky lucky lucky lucky lucky lucky lucky lucky lucky lucky lucky lucky lucky lucky lucky lucky lucky lucky lucky lucky lucky lucky lucky lucky lucky lucky lucky lucky lucky lucky lucky lucky lucky lucky lucky lucky lucky \n"
     ]
    }
   ],
   "source": [
    "str=2\n",
    "s=('lucky ')\n",
    "print(1000*s)"
   ]
  },
  {
   "cell_type": "code",
   "execution_count": 16,
   "metadata": {},
   "outputs": [
    {
     "name": "stdout",
     "output_type": "stream",
     "text": [
      "[3, 2, 1, 'shiva', 3, 2, 1, 'shiva', 3, 2, 1, 'shiva']\n"
     ]
    }
   ],
   "source": [
    "list=[3,2,1,'shiva']\n",
    "print(list*3)"
   ]
  },
  {
   "cell_type": "code",
   "execution_count": 21,
   "metadata": {},
   "outputs": [
    {
     "name": "stdout",
     "output_type": "stream",
     "text": [
      "5.0\n"
     ]
    }
   ],
   "source": [
    "\n",
    "print(10/2)"
   ]
  },
  {
   "cell_type": "code",
   "execution_count": 29,
   "metadata": {},
   "outputs": [
    {
     "name": "stdout",
     "output_type": "stream",
     "text": [
      "15482854257895\n"
     ]
    }
   ],
   "source": [
    "num_1=1548285425789545\n",
    "num_2=100\n",
    "print(num_1//num_2)"
   ]
  },
  {
   "cell_type": "code",
   "execution_count": 17,
   "metadata": {},
   "outputs": [
    {
     "name": "stdout",
     "output_type": "stream",
     "text": [
      "['s', 'h', 'i', 'v', 'a']\n",
      "s\n",
      "h\n",
      "i\n",
      "v\n"
     ]
    }
   ],
   "source": [
    "st='shiva'\n",
    "print(list(st))\n",
    "print(list(st)[0])\n",
    "print(list(st)[1])\n",
    "print(list(st)[2])\n",
    "print(list(st)[3])"
   ]
  },
  {
   "cell_type": "code",
   "execution_count": 18,
   "metadata": {},
   "outputs": [
    {
     "name": "stdout",
     "output_type": "stream",
     "text": [
      "('s', 'h', 'i', 'v', 'a')\n"
     ]
    }
   ],
   "source": [
    "st='shiva'\n",
    "print(tuple(st))"
   ]
  },
  {
   "cell_type": "code",
   "execution_count": 19,
   "metadata": {},
   "outputs": [
    {
     "name": "stdout",
     "output_type": "stream",
     "text": [
      "{'h', 'v', 'a', 's', 'i'}\n"
     ]
    }
   ],
   "source": [
    "st='shivaaaaaaa'\n",
    "print(set(st))"
   ]
  },
  {
   "cell_type": "code",
   "execution_count": 20,
   "metadata": {},
   "outputs": [
    {
     "name": "stdout",
     "output_type": "stream",
     "text": [
      "[1, 2, 3, 4]\n",
      "(1, 2, 3, 4)\n",
      "{1, 2, 3, 4}\n",
      "True\n"
     ]
    }
   ],
   "source": [
    "a=[1,2,3,4]\n",
    "print(str(a))\n",
    "print(tuple(a))\n",
    "print(set(a))\n",
    "print(bool(a))"
   ]
  },
  {
   "cell_type": "code",
   "execution_count": 21,
   "metadata": {},
   "outputs": [
    {
     "name": "stdout",
     "output_type": "stream",
     "text": [
      "{'name': 'raja', 'age': 21}\n"
     ]
    }
   ],
   "source": [
    "L=[['name','raja'],['age',21]]\n",
    "print(dict(L))"
   ]
  },
  {
   "cell_type": "code",
   "execution_count": 3,
   "metadata": {},
   "outputs": [
    {
     "name": "stdout",
     "output_type": "stream",
     "text": [
      "{2: 65, 98: 21, 91: 984978852}\n",
      "{2: 65, 98: 21, 91: 984978852}\n",
      "[2, 98, 91]\n",
      "(2, 98, 91)\n",
      "True\n",
      "{2, 91, 98}\n"
     ]
    }
   ],
   "source": [
    "a={2:65,98:21,91:984978852}\n",
    "print(a)\n",
    "print(str(a))\n",
    "print(list(a))\n",
    "print(tuple(a))\n",
    "print(bool(a))\n",
    "print(set(a))"
   ]
  },
  {
   "cell_type": "code",
   "execution_count": 33,
   "metadata": {},
   "outputs": [
    {
     "name": "stdout",
     "output_type": "stream",
     "text": [
      "0\n"
     ]
    }
   ],
   "source": [
    "a=59885\n",
    "b=10000000\n",
    "print(a//b)"
   ]
  },
  {
   "cell_type": "code",
   "execution_count": 1,
   "metadata": {},
   "outputs": [
    {
     "name": "stdout",
     "output_type": "stream",
     "text": [
      "6.0\n"
     ]
    }
   ],
   "source": [
    "d=12.5\n",
    "c=2\n",
    "print(d//c)"
   ]
  },
  {
   "cell_type": "code",
   "execution_count": 9,
   "metadata": {},
   "outputs": [
    {
     "name": "stdout",
     "output_type": "stream",
     "text": [
      "1.7697000000000003\n"
     ]
    }
   ],
   "source": [
    "a=29.7697\n",
    "b=2\n",
    "print(a%b)"
   ]
  },
  {
   "cell_type": "code",
   "execution_count": 11,
   "metadata": {},
   "outputs": [
    {
     "name": "stdout",
     "output_type": "stream",
     "text": [
      "False\n"
     ]
    }
   ],
   "source": [
    "num1=10\n",
    "v=20\n",
    "num1=(num1>v)\n",
    "print(num1)"
   ]
  },
  {
   "cell_type": "code",
   "execution_count": 12,
   "metadata": {},
   "outputs": [
    {
     "name": "stdout",
     "output_type": "stream",
     "text": [
      "12345\n"
     ]
    }
   ],
   "source": [
    "num=1234\n",
    "v=5\n",
    "num1=(num*10)+v\n",
    "print(num1)"
   ]
  },
  {
   "cell_type": "code",
   "execution_count": null,
   "metadata": {},
   "outputs": [],
   "source": [
    "print('shiva')"
   ]
  }
 ],
 "metadata": {
  "kernelspec": {
   "display_name": "Python 3",
   "language": "python",
   "name": "python3"
  },
  "language_info": {
   "codemirror_mode": {
    "name": "ipython",
    "version": 3
   },
   "file_extension": ".py",
   "mimetype": "text/x-python",
   "name": "python",
   "nbconvert_exporter": "python",
   "pygments_lexer": "ipython3",
   "version": "3.11.0"
  },
  "orig_nbformat": 4
 },
 "nbformat": 4,
 "nbformat_minor": 2
}
