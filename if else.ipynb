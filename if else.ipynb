{
 "cells": [
  {
   "cell_type": "code",
   "execution_count": 3,
   "metadata": {},
   "outputs": [
    {
     "name": "stdout",
     "output_type": "stream",
     "text": [
      "greater\n"
     ]
    }
   ],
   "source": [
    "num=int(input())\n",
    "if num>10:\n",
    "    print('greater')\n",
    "else:\n",
    "    print('not greater')    "
   ]
  },
  {
   "cell_type": "markdown",
   "metadata": {},
   "source": [
    "ASSIGNMENT "
   ]
  },
  {
   "cell_type": "code",
   "execution_count": 5,
   "metadata": {},
   "outputs": [
    {
     "name": "stdout",
     "output_type": "stream",
     "text": [
      "equal\n"
     ]
    }
   ],
   "source": [
    "num=int(input())\n",
    "if num==15:\n",
    "    print('equal')\n",
    "else:\n",
    "    print('not equal')    "
   ]
  },
  {
   "cell_type": "code",
   "execution_count": 11,
   "metadata": {},
   "outputs": [
    {
     "name": "stdout",
     "output_type": "stream",
     "text": [
      "not divisibel\n"
     ]
    }
   ],
   "source": [
    "num=int(input())\n",
    "if num%4==0:\n",
    "    print('divisible')\n",
    "else:\n",
    "    print('not divisibel')    "
   ]
  },
  {
   "cell_type": "code",
   "execution_count": 15,
   "metadata": {},
   "outputs": [
    {
     "name": "stdout",
     "output_type": "stream",
     "text": [
      "78\n"
     ]
    }
   ],
   "source": [
    "num=int(input())\n",
    "if num>21 and num<35 and num%2==0:\n",
    "    print(num*3)\n",
    "else:\n",
    "    print(num-20)    "
   ]
  },
  {
   "cell_type": "code",
   "execution_count": 20,
   "metadata": {},
   "outputs": [
    {
     "name": "stdout",
     "output_type": "stream",
     "text": [
      "alphabet\n"
     ]
    }
   ],
   "source": [
    "chr=(input())\n",
    "if ((chr>='A' and chr<='Z') or (chr>='a' and chr<='z')):\n",
    "    print('alphabet')\n",
    "else:\n",
    "    print('not')    "
   ]
  },
  {
   "cell_type": "code",
   "execution_count": 22,
   "metadata": {},
   "outputs": [
    {
     "name": "stdout",
     "output_type": "stream",
     "text": [
      "not\n"
     ]
    }
   ],
   "source": [
    "chr=(input())\n",
    "if chr>='0' and chr<='9':\n",
    "    print('digit')\n",
    "else:\n",
    "    print('not')    "
   ]
  },
  {
   "cell_type": "code",
   "execution_count": 32,
   "metadata": {},
   "outputs": [
    {
     "name": "stdout",
     "output_type": "stream",
     "text": [
      "symbol\n"
     ]
    }
   ],
   "source": [
    "chr=input()\n",
    "if((chr>='A' and chr<='Z') or (chr>='a' and chr<='z') or (chr>='0' and chr<='9')):\n",
    "    print('not a symbol')\n",
    "else:\n",
    "    print('symbol')    "
   ]
  },
  {
   "cell_type": "code",
   "execution_count": 37,
   "metadata": {},
   "outputs": [
    {
     "name": "stdout",
     "output_type": "stream",
     "text": [
      "83\n"
     ]
    }
   ],
   "source": [
    "chr=input()\n",
    "if ((chr>='A' and chr<='Z') or (chr>='a' and chr<='z')):\n",
    "    print(ord(chr))\n",
    "else:\n",
    "    print(chr)    \n",
    "\n",
    "    "
   ]
  },
  {
   "cell_type": "code",
   "execution_count": 3,
   "metadata": {},
   "outputs": [
    {
     "name": "stdout",
     "output_type": "stream",
     "text": [
      "happy diwali\n"
     ]
    }
   ],
   "source": [
    "chr=input()\n",
    "if ord(chr)>70:\n",
    "    print('happy diwali')\n",
    "else:\n",
    "    print('come on wednesday')    "
   ]
  },
  {
   "cell_type": "code",
   "execution_count": 9,
   "metadata": {},
   "outputs": [
    {
     "name": "stdout",
     "output_type": "stream",
     "text": [
      "vowel\n"
     ]
    }
   ],
   "source": [
    "chr=input()\n",
    "if chr in ('aeiouAEIOU'):\n",
    "    print('vowel')\n",
    "else:\n",
    "    print('not vowel')    "
   ]
  },
  {
   "cell_type": "code",
   "execution_count": 10,
   "metadata": {},
   "outputs": [
    {
     "name": "stdout",
     "output_type": "stream",
     "text": [
      "consonants\n"
     ]
    }
   ],
   "source": [
    "chr=input()\n",
    "if chr in ('aeiouAEIOU'):\n",
    "    print('vowel')\n",
    "else:\n",
    "    print('consonants') "
   ]
  },
  {
   "cell_type": "code",
   "execution_count": 14,
   "metadata": {},
   "outputs": [
    {
     "name": "stdout",
     "output_type": "stream",
     "text": [
      "even\n"
     ]
    }
   ],
   "source": [
    "num=int(input())\n",
    "if num%2==0:\n",
    "    print('even')\n",
    "else:\n",
    "    print('odd')    "
   ]
  },
  {
   "cell_type": "code",
   "execution_count": 19,
   "metadata": {},
   "outputs": [
    {
     "name": "stdout",
     "output_type": "stream",
     "text": [
      "uppercase\n"
     ]
    }
   ],
   "source": [
    "chr=input()\n",
    "if chr>='A' and chr<='Z':\n",
    "    print('uppercase')\n",
    "else:\n",
    "    print('lowercase')    "
   ]
  },
  {
   "cell_type": "code",
   "execution_count": 24,
   "metadata": {},
   "outputs": [
    {
     "name": "stdout",
     "output_type": "stream",
     "text": [
      "digit\n"
     ]
    }
   ],
   "source": [
    "num=input()\n",
    "if num>='0' and num<='9':\n",
    "    print('digit')\n",
    "else:\n",
    "    print('not')    "
   ]
  },
  {
   "cell_type": "code",
   "execution_count": 31,
   "metadata": {},
   "outputs": [
    {
     "name": "stdout",
     "output_type": "stream",
     "text": [
      "divisible by both\n"
     ]
    }
   ],
   "source": [
    "num=int(input())\n",
    "if num%2==0 and num%3==0:\n",
    "    print('divisible by both')\n",
    "else:\n",
    "    print('not divisible by both')    "
   ]
  },
  {
   "cell_type": "code",
   "execution_count": 2,
   "metadata": {},
   "outputs": [
    {
     "name": "stdout",
     "output_type": "stream",
     "text": [
      "hello good morning\n"
     ]
    }
   ],
   "source": [
    "chr=input()\n",
    "if ((chr>='A' and chr<='Z') or (chr>='a' and chr<='z') and (ord(chr)%2==0)):\n",
    "    print('hello good morning')\n",
    "else:\n",
    "    print('tata! tata! good byee')    "
   ]
  },
  {
   "cell_type": "code",
   "execution_count": 51,
   "metadata": {},
   "outputs": [
    {
     "name": "stdout",
     "output_type": "stream",
     "text": [
      "26\n"
     ]
    }
   ],
   "source": [
    "num=int(input())\n",
    "if ((num>5 and num<25) and (num%10)%3==0):\n",
    "    print(num+10)\n",
    "else:\n",
    "    print(num-10)    "
   ]
  },
  {
   "cell_type": "markdown",
   "metadata": {},
   "source": [
    "HOW TO GET USER INPUT DATA\n"
   ]
  }
 ],
 "metadata": {
  "kernelspec": {
   "display_name": "Python 3",
   "language": "python",
   "name": "python3"
  },
  "language_info": {
   "codemirror_mode": {
    "name": "ipython",
    "version": 3
   },
   "file_extension": ".py",
   "mimetype": "text/x-python",
   "name": "python",
   "nbconvert_exporter": "python",
   "pygments_lexer": "ipython3",
   "version": "3.11.0"
  }
 },
 "nbformat": 4,
 "nbformat_minor": 2
}
