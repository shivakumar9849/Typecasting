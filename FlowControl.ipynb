{
 "cells": [
  {
   "cell_type": "code",
   "execution_count": 2,
   "metadata": {},
   "outputs": [
    {
     "name": "stdout",
     "output_type": "stream",
     "text": [
      "hello\n",
      "hii\n",
      "byee\n",
      "good bye\n",
      "end\n"
     ]
    }
   ],
   "source": [
    "value=15\n",
    "if value>10:\n",
    "     print('hello')\n",
    "     print('hii')\n",
    "     print('byee')\n",
    "     print('good bye')\n",
    "print('end')     "
   ]
  },
  {
   "cell_type": "code",
   "execution_count": 4,
   "metadata": {},
   "outputs": [
    {
     "name": "stdout",
     "output_type": "stream",
     "text": [
      "divisible by 3\n",
      "15\n",
      "end\n"
     ]
    }
   ],
   "source": [
    "value=15\n",
    "if value%3==0:\n",
    "    print('divisible by 3')\n",
    "    print(value)\n",
    "print('end')    "
   ]
  },
  {
   "cell_type": "code",
   "execution_count": 6,
   "metadata": {},
   "outputs": [
    {
     "name": "stdout",
     "output_type": "stream",
     "text": [
      "26\n",
      "-24\n",
      "end\n"
     ]
    }
   ],
   "source": [
    "num=26\n",
    "if num>=10 and num<=50:\n",
    "     print(num)\n",
    "     print(num-50)\n",
    "print('end')     "
   ]
  },
  {
   "cell_type": "markdown",
   "metadata": {},
   "source": [
    "flow contrpl statement assignment:\n",
    "....--------\n"
   ]
  },
  {
   "cell_type": "code",
   "execution_count": 15,
   "metadata": {},
   "outputs": [
    {
     "name": "stdout",
     "output_type": "stream",
     "text": [
      "a\n"
     ]
    }
   ],
   "source": [
    "ch='A'\n",
    "if ch>='A'and ch<='Z':\n",
    "    ch1=ord(ch)+32\n",
    "    print(chr(ch1))\n"
   ]
  },
  {
   "cell_type": "code",
   "execution_count": 21,
   "metadata": {},
   "outputs": [
    {
     "name": "stdout",
     "output_type": "stream",
     "text": [
      "55\n",
      "15\n",
      "700\n",
      "1.75\n",
      "1\n",
      "15\n",
      "7609583501588058567047119140625\n",
      "end\n"
     ]
    }
   ],
   "source": [
    "a=35\n",
    "if a>=30 and a<=40:\n",
    "    print(a+20)\n",
    "    print(a-20)\n",
    "    print(a*20)\n",
    "    print(a/20)\n",
    "    print(a//20)\n",
    "    print(a%20)\n",
    "    print(a**20)\n",
    "print('end')    \n",
    "    "
   ]
  },
  {
   "cell_type": "code",
   "execution_count": 22,
   "metadata": {},
   "outputs": [
    {
     "name": "stdout",
     "output_type": "stream",
     "text": [
      "35\n"
     ]
    }
   ],
   "source": [
    "a=15\n",
    "if a%3==0:\n",
    "    a+=20\n",
    "    print(a)"
   ]
  },
  {
   "cell_type": "code",
   "execution_count": 26,
   "metadata": {},
   "outputs": [
    {
     "name": "stdout",
     "output_type": "stream",
     "text": [
      "64\n",
      "32\n"
     ]
    }
   ],
   "source": [
    "num=32\n",
    "if num%2==0 and num>20:\n",
    "    print(num*2)\n",
    "\n",
    "    print(num)"
   ]
  },
  {
   "cell_type": "code",
   "execution_count": 28,
   "metadata": {},
   "outputs": [
    {
     "name": "stdout",
     "output_type": "stream",
     "text": [
      "97\n"
     ]
    }
   ],
   "source": [
    "chr=('a')\n",
    "if (chr>='A' and chr<='Z') or (chr>='a' and chr<='z'):\n",
    "    print(ord(chr))\n",
    "\n"
   ]
  },
  {
   "cell_type": "code",
   "execution_count": 5,
   "metadata": {},
   "outputs": [
    {
     "name": "stdout",
     "output_type": "stream",
     "text": [
      "6\n"
     ]
    }
   ],
   "source": [
    "chr=('8')\n",
    "if chr>='0' and chr<='9':\n",
    "    print(ord(chr)%10) \n"
   ]
  },
  {
   "cell_type": "code",
   "execution_count": 10,
   "metadata": {},
   "outputs": [
    {
     "name": "stdout",
     "output_type": "stream",
     "text": [
      "eligible\n",
      "not eligible\n"
     ]
    }
   ],
   "source": [
    "a=22\n",
    "b=13\n",
    "if a>=18:\n",
    "    print('eligible')\n",
    "if b<=18:\n",
    "    print('not eligible')    \n"
   ]
  },
  {
   "cell_type": "code",
   "execution_count": 11,
   "metadata": {},
   "outputs": [
    {
     "name": "stdout",
     "output_type": "stream",
     "text": [
      "eligible\n"
     ]
    }
   ],
   "source": [
    "a=22\n",
    "b=25\n",
    "if a>=18 and b>=18:\n",
    "    print('eligible')"
   ]
  },
  {
   "cell_type": "code",
   "execution_count": 12,
   "metadata": {},
   "outputs": [
    {
     "name": "stdout",
     "output_type": "stream",
     "text": [
      "eligible\n"
     ]
    }
   ],
   "source": [
    "boy=23\n",
    "girl=21\n",
    "if a>=21 and b>=21:\n",
    "    print('eligible')"
   ]
  }
 ],
 "metadata": {
  "kernelspec": {
   "display_name": "Python 3",
   "language": "python",
   "name": "python3"
  },
  "language_info": {
   "codemirror_mode": {
    "name": "ipython",
    "version": 3
   },
   "file_extension": ".py",
   "mimetype": "text/x-python",
   "name": "python",
   "nbconvert_exporter": "python",
   "pygments_lexer": "ipython3",
   "version": "3.11.0"
  }
 },
 "nbformat": 4,
 "nbformat_minor": 2
}
