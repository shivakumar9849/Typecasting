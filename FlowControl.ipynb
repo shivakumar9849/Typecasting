{
 "cells": [
  {
   "cell_type": "code",
   "execution_count": 2,
   "metadata": {},
   "outputs": [
    {
     "name": "stdout",
     "output_type": "stream",
     "text": [
      "hello\n",
      "hii\n",
      "byee\n",
      "good bye\n",
      "end\n"
     ]
    }
   ],
   "source": [
    "value=15\n",
    "if value>10:\n",
    "     print('hello')\n",
    "     print('hii')\n",
    "     print('byee')\n",
    "     print('good bye')\n",
    "print('end')     "
   ]
  },
  {
   "cell_type": "code",
   "execution_count": 4,
   "metadata": {},
   "outputs": [
    {
     "name": "stdout",
     "output_type": "stream",
     "text": [
      "divisible by 3\n",
      "15\n",
      "end\n"
     ]
    }
   ],
   "source": [
    "value=15\n",
    "if value%3==0:\n",
    "    print('divisible by 3')\n",
    "    print(value)\n",
    "print('end')    "
   ]
  },
  {
   "cell_type": "code",
   "execution_count": 6,
   "metadata": {},
   "outputs": [
    {
     "name": "stdout",
     "output_type": "stream",
     "text": [
      "26\n",
      "-24\n",
      "end\n"
     ]
    }
   ],
   "source": [
    "num=26\n",
    "if num>=10 and num<=50:\n",
    "     print(num)\n",
    "     print(num-50)\n",
    "print('end')     "
   ]
  },
  {
   "cell_type": "markdown",
   "metadata": {},
   "source": [
    "flow contrpl statement assignment:\n",
    "....--------\n"
   ]
  },
  {
   "cell_type": "code",
   "execution_count": 15,
   "metadata": {},
   "outputs": [
    {
     "name": "stdout",
     "output_type": "stream",
     "text": [
      "a\n"
     ]
    }
   ],
   "source": [
    "ch='A'\n",
    "if ch>='A'and ch<='Z':\n",
    "    ch1=ord(ch)+32\n",
    "    print(chr(ch1))\n"
   ]
  },
  {
   "cell_type": "code",
   "execution_count": 21,
   "metadata": {},
   "outputs": [
    {
     "name": "stdout",
     "output_type": "stream",
     "text": [
      "55\n",
      "15\n",
      "700\n",
      "1.75\n",
      "1\n",
      "15\n",
      "7609583501588058567047119140625\n",
      "end\n"
     ]
    }
   ],
   "source": [
    "a=35\n",
    "if a>=30 and a<=40:\n",
    "    print(a+20)\n",
    "    print(a-20)\n",
    "    print(a*20)\n",
    "    print(a/20)\n",
    "    print(a//20)\n",
    "    print(a%20)\n",
    "    print(a**20)\n",
    "print('end')    \n",
    "    "
   ]
  },
  {
   "cell_type": "code",
   "execution_count": 22,
   "metadata": {},
   "outputs": [
    {
     "name": "stdout",
     "output_type": "stream",
     "text": [
      "35\n"
     ]
    }
   ],
   "source": [
    "a=15\n",
    "if a%3==0:\n",
    "    a+=20\n",
    "    print(a)"
   ]
  },
  {
   "cell_type": "code",
   "execution_count": 26,
   "metadata": {},
   "outputs": [
    {
     "name": "stdout",
     "output_type": "stream",
     "text": [
      "64\n",
      "32\n"
     ]
    }
   ],
   "source": [
    "num=32\n",
    "if num%2==0 and num>20:\n",
    "    print(num*2)\n",
    "\n",
    "    print(num)"
   ]
  },
  {
   "cell_type": "code",
   "execution_count": 28,
   "metadata": {},
   "outputs": [
    {
     "name": "stdout",
     "output_type": "stream",
     "text": [
      "97\n"
     ]
    }
   ],
   "source": [
    "chr=('a')\n",
    "if (chr>='A' and chr<='Z') or (chr>='a' and chr<='z'):\n",
    "    print(ord(chr))\n",
    "\n"
   ]
  },
  {
   "cell_type": "code",
   "execution_count": 5,
   "metadata": {},
   "outputs": [
    {
     "name": "stdout",
     "output_type": "stream",
     "text": [
      "6\n"
     ]
    }
   ],
   "source": [
    "chr=('8')\n",
    "if chr>='0' and chr<='9':\n",
    "    print(ord(chr)%10) \n"
   ]
  },
  {
   "cell_type": "code",
   "execution_count": 10,
   "metadata": {},
   "outputs": [
    {
     "name": "stdout",
     "output_type": "stream",
     "text": [
      "eligible\n",
      "not eligible\n"
     ]
    }
   ],
   "source": [
    "a=22\n",
    "b=13\n",
    "if a>=18:\n",
    "    print('eligible')\n",
    "if b<=18:\n",
    "    print('not eligible')    \n"
   ]
  },
  {
   "cell_type": "code",
   "execution_count": 11,
   "metadata": {},
   "outputs": [
    {
     "name": "stdout",
     "output_type": "stream",
     "text": [
      "eligible\n"
     ]
    }
   ],
   "source": [
    "a=22\n",
    "b=25\n",
    "if a>=18 and b>=18:\n",
    "    print('eligible')"
   ]
  },
  {
   "cell_type": "code",
   "execution_count": 12,
   "metadata": {},
   "outputs": [
    {
     "name": "stdout",
     "output_type": "stream",
     "text": [
      "eligible\n"
     ]
    }
   ],
   "source": [
    "boy=23\n",
    "girl=21\n",
    "if a>=21 and b>=21:\n",
    "    print('eligible')"
   ]
  },
  {
   "cell_type": "markdown",
   "metadata": {},
   "source": [
    "ELIF STATEMENT"
   ]
  },
  {
   "cell_type": "code",
   "execution_count": 4,
   "metadata": {},
   "outputs": [
    {
     "name": "stdout",
     "output_type": "stream",
     "text": [
      "zero\n",
      "0\n"
     ]
    }
   ],
   "source": [
    "num=int(input())\n",
    "if num>0:\n",
    "    print('positive')\n",
    "elif num<0:\n",
    "    print('negative')\n",
    "else:\n",
    "    print('zero') \n",
    "print(num)  "
   ]
  },
  {
   "cell_type": "code",
   "execution_count": 13,
   "metadata": {},
   "outputs": [
    {
     "name": "stdout",
     "output_type": "stream",
     "text": [
      "even\n",
      "24\n"
     ]
    }
   ],
   "source": [
    "num=int(input())\n",
    "if num==0:\n",
    "    print('zero')\n",
    "elif num%2==1:\n",
    "    print('odd')\n",
    "else:\n",
    "    print('even')\n",
    "print(num)"
   ]
  },
  {
   "cell_type": "code",
   "execution_count": 16,
   "metadata": {},
   "outputs": [
    {
     "name": "stdout",
     "output_type": "stream",
     "text": [
      "upper case\n",
      "D\n"
     ]
    }
   ],
   "source": [
    "ch=input()\n",
    "if ch>='A' and ch<='Z':\n",
    "    print('upper case')\n",
    "elif ch>='a' and ch<='z':\n",
    "    print('lower case')\n",
    "print(ch)"
   ]
  },
  {
   "cell_type": "code",
   "execution_count": 32,
   "metadata": {},
   "outputs": [
    {
     "name": "stdout",
     "output_type": "stream",
     "text": [
      "alphabet\n",
      "A\n"
     ]
    }
   ],
   "source": [
    "ch=input()\n",
    "if (ch>='A' and ch<='Z') or (ch>='a' and ch<='z'):\n",
    "    print('alphabet')\n",
    "elif ch>='0' and ch<='9':\n",
    "    print('digit')\n",
    "else:\n",
    "    print('symbol')\n",
    "print(ch)"
   ]
  },
  {
   "cell_type": "code",
   "execution_count": 33,
   "metadata": {},
   "outputs": [
    {
     "name": "stdout",
     "output_type": "stream",
     "text": [
      "F\n",
      "upper case\n"
     ]
    }
   ],
   "source": [
    "ch=input()\n",
    "print(ch)\n",
    "if ch>='A'and ch<='Z':\n",
    "    print('upper case')\n",
    "elif ch>='a' and ch<='z':\n",
    "    print('lower case')\n",
    "else:\n",
    "    print('digit')\n"
   ]
  },
  {
   "cell_type": "code",
   "execution_count": 28,
   "metadata": {},
   "outputs": [
    {
     "name": "stdout",
     "output_type": "stream",
     "text": [
      "FIZZBUZZ\n",
      "15\n"
     ]
    }
   ],
   "source": [
    "num=int(input())\n",
    "if num%3==0 and num%5==0:\n",
    "    print('FIZZBUZZ')\n",
    "elif num%3==0:\n",
    "    print('FIZZ')\n",
    "elif num%5==0:\n",
    "    print('BUZZ')\n",
    "print(num)"
   ]
  },
  {
   "cell_type": "markdown",
   "metadata": {},
   "source": [
    "NESTED IF STATEMENTS"
   ]
  },
  {
   "cell_type": "code",
   "execution_count": 25,
   "metadata": {},
   "outputs": [
    {
     "name": "stdout",
     "output_type": "stream",
     "text": [
      "-3\n",
      "greater than -5\n"
     ]
    }
   ],
   "source": [
    "num=int(input())\n",
    "print(num)\n",
    "if num>0:\n",
    "    if num%2==0:\n",
    "        print('even')\n",
    "    else:\n",
    "        print('odd')\n",
    "elif num<0:\n",
    "    if num>-5:\n",
    "        print('greater than -5')\n",
    "    else:\n",
    "        print('less than -5')"
   ]
  },
  {
   "cell_type": "code",
   "execution_count": 26,
   "metadata": {},
   "outputs": [
    {
     "name": "stdout",
     "output_type": "stream",
     "text": [
      "10\n",
      "even\n"
     ]
    }
   ],
   "source": [
    "num=int(input())\n",
    "print(num)\n",
    "if num>0:\n",
    "    if num%2==0:\n",
    "        print('even')\n",
    "    else:\n",
    "        print('odd')\n",
    "elif num<0:\n",
    "    if num>-5:\n",
    "        print('greater than -5')\n",
    "    else:\n",
    "        print('less than -5')"
   ]
  },
  {
   "cell_type": "code",
   "execution_count": 29,
   "metadata": {},
   "outputs": [
    {
     "name": "stdout",
     "output_type": "stream",
     "text": [
      "A\n",
      "odd\n"
     ]
    }
   ],
   "source": [
    "ch=input()\n",
    "ch1=ord(ch)\n",
    "print(ch)\n",
    "if ch>='A' and ch<='Z':\n",
    "    if ch1%2==0:\n",
    "        print('even')\n",
    "    else:\n",
    "        print('odd')\n",
    "elif ch>='a' and ch<='z':\n",
    "    ch2=(ch1)-32\n",
    "    print(chr(ch2))\n",
    "elif ch>='0' and ch<='9':\n",
    "        print(ch1**2)\n"
   ]
  },
  {
   "cell_type": "code",
   "execution_count": 31,
   "metadata": {},
   "outputs": [
    {
     "name": "stdout",
     "output_type": "stream",
     "text": [
      "a\n",
      "A\n"
     ]
    }
   ],
   "source": [
    "ch=input()\n",
    "ch1=ord(ch)\n",
    "print(ch)\n",
    "if ch>='A' and ch<='Z':\n",
    "    if ch1%2==0:\n",
    "        print('even')\n",
    "    else:\n",
    "        print('odd')\n",
    "elif ch>='a' and ch<='z':\n",
    "    ch2=(ch1)-32\n",
    "    print(chr(ch2))\n",
    "elif ch>='0' and ch<='9':\n",
    "        print(ch1**2)\n"
   ]
  },
  {
   "cell_type": "code",
   "execution_count": 32,
   "metadata": {},
   "outputs": [
    {
     "name": "stdout",
     "output_type": "stream",
     "text": [
      "5\n",
      "2809\n"
     ]
    }
   ],
   "source": [
    "ch=input()\n",
    "ch1=ord(ch)\n",
    "print(ch)\n",
    "if ch>='A' and ch<='Z':\n",
    "    if ch1%2==0:\n",
    "        print('even')\n",
    "    else:\n",
    "        print('odd')\n",
    "elif ch>='a' and ch<='z':\n",
    "    ch2=(ch1)-32\n",
    "    print(chr(ch2))\n",
    "elif ch>='0' and ch<='9':\n",
    "        print(ch1**2)\n"
   ]
  },
  {
   "cell_type": "code",
   "execution_count": 23,
   "metadata": {},
   "outputs": [
    {
     "name": "stdout",
     "output_type": "stream",
     "text": [
      "shivas\n",
      "same\n"
     ]
    }
   ],
   "source": [
    "st=input()\n",
    "st1=len(st)\n",
    "print(st)\n",
    "if st1>3:\n",
    "    if st[0]==st[-1]:\n",
    "        print('same')\n",
    "    else:\n",
    "        print('not same')\n",
    "elif st1<2:\n",
    "    if st[0]>='A' and st[-1]<='Z':\n",
    "        print('upper case')\n",
    "    elif st[0]>='a' and st[-1]<='z':\n",
    "        print('lower case')\n"
   ]
  },
  {
   "cell_type": "code",
   "execution_count": 33,
   "metadata": {},
   "outputs": [
    {
     "name": "stdout",
     "output_type": "stream",
     "text": [
      "A\n",
      "upper case\n"
     ]
    }
   ],
   "source": [
    "st=input()\n",
    "st1=len(st)\n",
    "print(st)\n",
    "if st1>3:\n",
    "    if st[0]==st[-1]:\n",
    "        print('same')\n",
    "    else:\n",
    "        print('not same')\n",
    "elif st1<2:\n",
    "    if st[0]>='A' and st[-1]<='Z':\n",
    "        print('upper case')\n",
    "    elif st[0]>='a' and st[-1]<='z':\n",
    "        print('lower case')\n"
   ]
  },
  {
   "cell_type": "code",
   "execution_count": 34,
   "metadata": {},
   "outputs": [
    {
     "name": "stdout",
     "output_type": "stream",
     "text": [
      "a\n",
      "lower case\n"
     ]
    }
   ],
   "source": [
    "st=input()\n",
    "st1=len(st)\n",
    "print(st)\n",
    "if st1>3:\n",
    "    if st[0]==st[-1]:\n",
    "        print('same')\n",
    "    else:\n",
    "        print('not same')\n",
    "elif st1<2:\n",
    "    if st[0]>='A' and st[-1]<='Z':\n",
    "        print('upper case')\n",
    "    elif st[0]>='a' and st[-1]<='z':\n",
    "        print('lower case')\n"
   ]
  },
  {
   "cell_type": "code",
   "execution_count": 41,
   "metadata": {},
   "outputs": [
    {
     "ename": "TypeError",
     "evalue": "unsupported operand type(s) for //: 'str' and 'int'",
     "output_type": "error",
     "traceback": [
      "\u001b[1;31m---------------------------------------------------------------------------\u001b[0m",
      "\u001b[1;31mTypeError\u001b[0m                                 Traceback (most recent call last)",
      "Cell \u001b[1;32mIn[41], line 3\u001b[0m\n\u001b[0;32m      1\u001b[0m st\u001b[38;5;241m=\u001b[39m\u001b[38;5;28minput\u001b[39m()\n\u001b[0;32m      2\u001b[0m st1\u001b[38;5;241m=\u001b[39m\u001b[38;5;28mlen\u001b[39m(st)\n\u001b[1;32m----> 3\u001b[0m mid\u001b[38;5;241m=\u001b[39m\u001b[43mst\u001b[49m\u001b[38;5;241;43m/\u001b[39;49m\u001b[38;5;241;43m/\u001b[39;49m\u001b[38;5;241;43m2\u001b[39;49m\n\u001b[0;32m      4\u001b[0m st2\u001b[38;5;241m=\u001b[39mst[mid]\n\u001b[0;32m      5\u001b[0m \u001b[38;5;28;01mif\u001b[39;00m st1\u001b[38;5;241m==\u001b[39m\u001b[38;5;241m5\u001b[39m:\n",
      "\u001b[1;31mTypeError\u001b[0m: unsupported operand type(s) for //: 'str' and 'int'"
     ]
    }
   ],
   "source": [
    "st=input()\n",
    "st1=len(st)\n",
    "mid=st//2\n",
    "st2=st[mid]\n",
    "if st1==5:\n",
    "    if st2>='A' and st2<='Z':\n",
    "        print('upper case')\n",
    "    elif st2>='a' and st2<='z':\n",
    "        print(\"lower case\")\n",
    "    elif st2>='0' and st2<='9':\n",
    "        print('digit')\n",
    "    else:\n",
    "        print('symbol')\n",
    "elif st1==2:\n",
    "    if st[0]==st[-1]:\n",
    "        print('equal')\n",
    "    else:\n",
    "        print('not equal')"
   ]
  }
 ],
 "metadata": {
  "kernelspec": {
   "display_name": "Python 3",
   "language": "python",
   "name": "python3"
  },
  "language_info": {
   "codemirror_mode": {
    "name": "ipython",
    "version": 3
   },
   "file_extension": ".py",
   "mimetype": "text/x-python",
   "name": "python",
   "nbconvert_exporter": "python",
   "pygments_lexer": "ipython3",
   "version": "3.11.0"
  }
 },
 "nbformat": 4,
 "nbformat_minor": 2
}
