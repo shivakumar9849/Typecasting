{
 "cells": [
  {
   "cell_type": "code",
   "execution_count": 4,
   "metadata": {},
   "outputs": [
    {
     "name": "stdout",
     "output_type": "stream",
     "text": [
      "55\n",
      "positive\n"
     ]
    }
   ],
   "source": [
    "num=int(input())\n",
    "print(num)\n",
    "if num>0:\n",
    "    print('positive')\n"
   ]
  },
  {
   "cell_type": "code",
   "execution_count": 7,
   "metadata": {},
   "outputs": [
    {
     "name": "stdout",
     "output_type": "stream",
     "text": [
      "3\n",
      "hello world\n"
     ]
    }
   ],
   "source": [
    "num=int(input())\n",
    "print(num)\n",
    "if num>1 and num<5:\n",
    "    print('hello world')"
   ]
  },
  {
   "cell_type": "code",
   "execution_count": 11,
   "metadata": {},
   "outputs": [
    {
     "name": "stdout",
     "output_type": "stream",
     "text": [
      "18\n",
      "fizz\n"
     ]
    }
   ],
   "source": [
    "num=int(input())\n",
    "print(num)\n",
    "if num%3==0:\n",
    "    print('fizz')"
   ]
  },
  {
   "cell_type": "code",
   "execution_count": 22,
   "metadata": {},
   "outputs": [
    {
     "name": "stdout",
     "output_type": "stream",
     "text": [
      "18\n",
      "(18+0j)\n"
     ]
    }
   ],
   "source": [
    "num=int(input())\n",
    "print(num)\n",
    "if num%2==0 and num%6==0:\n",
    "    print(complex(num))\n"
   ]
  },
  {
   "cell_type": "code",
   "execution_count": 42,
   "metadata": {},
   "outputs": [
    {
     "name": "stdout",
     "output_type": "stream",
     "text": [
      "25\n",
      "['2', '5']\n"
     ]
    }
   ],
   "source": [
    "num=int(input())\n",
    "print(num)\n",
    "num2=list((str)(num))\n",
    "if num%3==0 or num%5==0:\n",
    "    print(num2)"
   ]
  },
  {
   "cell_type": "code",
   "execution_count": 52,
   "metadata": {},
   "outputs": [
    {
     "name": "stdout",
     "output_type": "stream",
     "text": [
      "10\n",
      "multiple by 5\n"
     ]
    }
   ],
   "source": [
    "num=int(input())\n",
    "print(num)\n",
    "if num%5==0:\n",
    "    print('multiple by 5')"
   ]
  },
  {
   "cell_type": "code",
   "execution_count": 54,
   "metadata": {},
   "outputs": [
    {
     "name": "stdout",
     "output_type": "stream",
     "text": [
      "0\n",
      "zero\n"
     ]
    }
   ],
   "source": [
    "num=int(input())\n",
    "print(num)\n",
    "if num==0:\n",
    "    print('zero')"
   ]
  },
  {
   "cell_type": "code",
   "execution_count": 56,
   "metadata": {},
   "outputs": [
    {
     "name": "stdout",
     "output_type": "stream",
     "text": [
      "-2\n",
      "negative\n"
     ]
    }
   ],
   "source": [
    "num=int(input())\n",
    "print(num)\n",
    "if num<0:\n",
    "    print('negative')"
   ]
  },
  {
   "cell_type": "code",
   "execution_count": 62,
   "metadata": {},
   "outputs": [
    {
     "name": "stdout",
     "output_type": "stream",
     "text": [
      "10\n",
      "even ['1', '0']\n"
     ]
    }
   ],
   "source": [
    "num=int(input())\n",
    "print(num)\n",
    "num2=list((str)(num))\n",
    "if num%2==0:\n",
    "    print('even',(num2))"
   ]
  },
  {
   "cell_type": "code",
   "execution_count": 66,
   "metadata": {},
   "outputs": [
    {
     "name": "stdout",
     "output_type": "stream",
     "text": [
      "15\n",
      "odd ('1', '5')\n"
     ]
    }
   ],
   "source": [
    "num=int(input())\n",
    "print(num)\n",
    "num2=tuple((str)(num))\n",
    "if num%2==1:\n",
    "    print('odd',(num2))"
   ]
  },
  {
   "cell_type": "code",
   "execution_count": 69,
   "metadata": {},
   "outputs": [
    {
     "name": "stdout",
     "output_type": "stream",
     "text": [
      "12\n",
      "20736\n"
     ]
    }
   ],
   "source": [
    "num=int(input())\n",
    "print(num)\n",
    "if num%2==0:\n",
    "    print(num**4)"
   ]
  },
  {
   "cell_type": "code",
   "execution_count": 95,
   "metadata": {},
   "outputs": [
    {
     "name": "stdout",
     "output_type": "stream",
     "text": [
      "15\n",
      "20\n"
     ]
    }
   ],
   "source": [
    "num=int(input())\n",
    "print(num)\n",
    "num1=num+5\n",
    "if (num>=0 or num<=0)  :\n",
    "    print(num1)"
   ]
  },
  {
   "cell_type": "code",
   "execution_count": 96,
   "metadata": {},
   "outputs": [
    {
     "name": "stdout",
     "output_type": "stream",
     "text": [
      "35\n",
      "1225\n"
     ]
    }
   ],
   "source": [
    "num=int(input())\n",
    "print(num)\n",
    "if num%5==0 and num%7==0:\n",
    "    print(num**2)\n"
   ]
  },
  {
   "cell_type": "code",
   "execution_count": 104,
   "metadata": {},
   "outputs": [
    {
     "name": "stdout",
     "output_type": "stream",
     "text": [
      "25666\n",
      "1\n"
     ]
    }
   ],
   "source": [
    "num=(input())\n",
    "print(num)\n",
    "num1=str(num)\n",
    "num2=num1[-1]\n",
    "num3=int(num2)\n",
    "num4=num3>>2\n",
    "if num4:\n",
    "    print(num4)"
   ]
  },
  {
   "cell_type": "code",
   "execution_count": null,
   "metadata": {},
   "outputs": [],
   "source": []
  }
 ],
 "metadata": {
  "kernelspec": {
   "display_name": "Python 3",
   "language": "python",
   "name": "python3"
  },
  "language_info": {
   "codemirror_mode": {
    "name": "ipython",
    "version": 3
   },
   "file_extension": ".py",
   "mimetype": "text/x-python",
   "name": "python",
   "nbconvert_exporter": "python",
   "pygments_lexer": "ipython3",
   "version": "3.11.0"
  }
 },
 "nbformat": 4,
 "nbformat_minor": 2
}
