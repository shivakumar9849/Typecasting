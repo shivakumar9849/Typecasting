{
 "cells": [
  {
   "cell_type": "code",
   "execution_count": 6,
   "metadata": {},
   "outputs": [
    {
     "name": "stdout",
     "output_type": "stream",
     "text": [
      "25\n",
      "positive\n"
     ]
    }
   ],
   "source": [
    "num=int(input())\n",
    "print(num)\n",
    "if num>0:\n",
    "    print('positive')\n"
   ]
  },
  {
   "cell_type": "code",
   "execution_count": 8,
   "metadata": {},
   "outputs": [
    {
     "name": "stdout",
     "output_type": "stream",
     "text": [
      "4\n",
      "hello world\n"
     ]
    }
   ],
   "source": [
    "num=int(input())\n",
    "print(num)\n",
    "if num>1 and num<5:\n",
    "    print('hello world')"
   ]
  },
  {
   "cell_type": "code",
   "execution_count": 9,
   "metadata": {},
   "outputs": [
    {
     "name": "stdout",
     "output_type": "stream",
     "text": [
      "15\n",
      "fizz\n"
     ]
    }
   ],
   "source": [
    "num=int(input())\n",
    "print(num)\n",
    "if num%3==0:\n",
    "    print('fizz')"
   ]
  },
  {
   "cell_type": "code",
   "execution_count": 10,
   "metadata": {},
   "outputs": [
    {
     "name": "stdout",
     "output_type": "stream",
     "text": [
      "12\n",
      "(12+0j)\n"
     ]
    }
   ],
   "source": [
    "num=int(input())\n",
    "print(num)\n",
    "if num%2==0 and num%6==0:\n",
    "    print(complex(num))\n"
   ]
  },
  {
   "cell_type": "code",
   "execution_count": 11,
   "metadata": {},
   "outputs": [
    {
     "name": "stdout",
     "output_type": "stream",
     "text": [
      "15\n",
      "['1', '5']\n"
     ]
    }
   ],
   "source": [
    "num=int(input())\n",
    "print(num)\n",
    "num2=list((str)(num))\n",
    "if num%3==0 or num%5==0:\n",
    "    print(num2)"
   ]
  },
  {
   "cell_type": "code",
   "execution_count": 12,
   "metadata": {},
   "outputs": [
    {
     "name": "stdout",
     "output_type": "stream",
     "text": [
      "25\n",
      "multiple by 5\n"
     ]
    }
   ],
   "source": [
    "num=int(input())\n",
    "print(num)\n",
    "if num%5==0:\n",
    "    print('multiple by 5')"
   ]
  },
  {
   "cell_type": "code",
   "execution_count": 13,
   "metadata": {},
   "outputs": [
    {
     "name": "stdout",
     "output_type": "stream",
     "text": [
      "0\n",
      "zero\n"
     ]
    }
   ],
   "source": [
    "num=int(input())\n",
    "print(num)\n",
    "if num==0:\n",
    "    print('zero')"
   ]
  },
  {
   "cell_type": "code",
   "execution_count": 16,
   "metadata": {},
   "outputs": [
    {
     "name": "stdout",
     "output_type": "stream",
     "text": [
      "-2\n",
      "negative\n"
     ]
    }
   ],
   "source": [
    "num=int(input())\n",
    "print(num)\n",
    "if num<0:\n",
    "    print('negative')"
   ]
  },
  {
   "cell_type": "code",
   "execution_count": 17,
   "metadata": {},
   "outputs": [
    {
     "name": "stdout",
     "output_type": "stream",
     "text": [
      "25\n"
     ]
    }
   ],
   "source": [
    "num=int(input())\n",
    "print(num)\n",
    "num2=list((str)(num))\n",
    "if num%2==0:\n",
    "    print('even',(num2))"
   ]
  },
  {
   "cell_type": "code",
   "execution_count": 1,
   "metadata": {},
   "outputs": [
    {
     "name": "stdout",
     "output_type": "stream",
     "text": [
      "25\n",
      "odd ('2', '5')\n"
     ]
    }
   ],
   "source": [
    "num=int(input())\n",
    "print(num)\n",
    "num2=tuple((str)(num))\n",
    "if num%2==1:\n",
    "    print('odd',(num2))"
   ]
  },
  {
   "cell_type": "code",
   "execution_count": 2,
   "metadata": {},
   "outputs": [
    {
     "name": "stdout",
     "output_type": "stream",
     "text": [
      "2\n",
      "16\n"
     ]
    }
   ],
   "source": [
    "num=int(input())\n",
    "print(num)\n",
    "if num%2==0:\n",
    "    print(num**4)"
   ]
  },
  {
   "cell_type": "code",
   "execution_count": 3,
   "metadata": {},
   "outputs": [
    {
     "name": "stdout",
     "output_type": "stream",
     "text": [
      "5\n",
      "10\n"
     ]
    }
   ],
   "source": [
    "num=int(input())\n",
    "print(num)\n",
    "num1=num+5\n",
    "if (num>=0 or num<=0)  :\n",
    "    print(num1)"
   ]
  },
  {
   "cell_type": "code",
   "execution_count": 4,
   "metadata": {},
   "outputs": [
    {
     "name": "stdout",
     "output_type": "stream",
     "text": [
      "35\n",
      "1225\n"
     ]
    }
   ],
   "source": [
    "num=int(input())\n",
    "print(num)\n",
    "if num%5==0 and num%7==0:\n",
    "    print(num**2)\n"
   ]
  },
  {
   "cell_type": "code",
   "execution_count": 6,
   "metadata": {},
   "outputs": [
    {
     "name": "stdout",
     "output_type": "stream",
     "text": [
      "8\n",
      "2\n"
     ]
    }
   ],
   "source": [
    "num=int(input())\n",
    "print(num)\n",
    "num1=num%10\n",
    "num2=num1>>2\n",
    "if num1>5:\n",
    "    print(num2)"
   ]
  },
  {
   "cell_type": "code",
   "execution_count": 7,
   "metadata": {},
   "outputs": [
    {
     "name": "stdout",
     "output_type": "stream",
     "text": [
      "15\n",
      "225\n"
     ]
    }
   ],
   "source": [
    "num=int(input())\n",
    "print(num)\n",
    "if num%3==0 and num<30:\n",
    "    print(num**2)"
   ]
  },
  {
   "cell_type": "code",
   "execution_count": 8,
   "metadata": {},
   "outputs": [
    {
     "name": "stdout",
     "output_type": "stream",
     "text": [
      "20\n",
      "8000\n"
     ]
    }
   ],
   "source": [
    "num=int(input())\n",
    "print(num)\n",
    "if num%4==0 and num%2==0:\n",
    "    print(num**3)"
   ]
  },
  {
   "cell_type": "code",
   "execution_count": 10,
   "metadata": {},
   "outputs": [
    {
     "name": "stdout",
     "output_type": "stream",
     "text": [
      "20\n",
      "['2', '0']\n"
     ]
    }
   ],
   "source": [
    "num=int(input())\n",
    "print(num)\n",
    "num1=list((str)(num))\n",
    "if num%2==0:\n",
    "    print(num1)"
   ]
  },
  {
   "cell_type": "code",
   "execution_count": 11,
   "metadata": {},
   "outputs": [
    {
     "name": "stdout",
     "output_type": "stream",
     "text": [
      "20\n",
      "0\n"
     ]
    }
   ],
   "source": [
    "num=int(input())\n",
    "print(num)\n",
    "num1=num%10\n",
    "if num<0 or num%2==0:\n",
    "    print(num1)\n"
   ]
  },
  {
   "cell_type": "code",
   "execution_count": 13,
   "metadata": {},
   "outputs": [
    {
     "name": "stdout",
     "output_type": "stream",
     "text": [
      "20\n"
     ]
    }
   ],
   "source": [
    "num=int(input())\n",
    "print(num)\n",
    "if num<0 and num%2==1 and  num%4==0:\n",
    "    print(num**3)"
   ]
  },
  {
   "cell_type": "code",
   "execution_count": 16,
   "metadata": {},
   "outputs": [
    {
     "name": "stdout",
     "output_type": "stream",
     "text": [
      "20\n",
      "\u0014\n"
     ]
    }
   ],
   "source": [
    "av=int(input())\n",
    "print(av)\n",
    "if av%4==0 and av%2==0:\n",
    "    print(chr(av))"
   ]
  },
  {
   "cell_type": "code",
   "execution_count": 20,
   "metadata": {},
   "outputs": [
    {
     "name": "stdout",
     "output_type": "stream",
     "text": [
      "64\n"
     ]
    }
   ],
   "source": [
    "num=int(input())\n",
    "print(num)\n",
    "if (num>45 and num<125) and (num%4==0 and num%5==0) and (num%2==0):\n",
    "    print(chr(num))\n"
   ]
  },
  {
   "cell_type": "code",
   "execution_count": null,
   "metadata": {},
   "outputs": [],
   "source": [
    "num=int(input())\n",
    "print(num)\n",
    "if ((num>25 and num<100) and (num%4==0 and num%5==0)):\n",
    "    print(num*5)\n"
   ]
  },
  {
   "cell_type": "code",
   "execution_count": 21,
   "metadata": {},
   "outputs": [
    {
     "name": "stdout",
     "output_type": "stream",
     "text": [
      "15\n",
      "0\n"
     ]
    }
   ],
   "source": [
    "num=15\n",
    "print(num)\n",
    "num1=int(num)\n",
    "if ((num>0 or num<0) and (num%2==1)):\n",
    "    print(num1%5)"
   ]
  },
  {
   "cell_type": "code",
   "execution_count": 22,
   "metadata": {},
   "outputs": [
    {
     "name": "stdout",
     "output_type": "stream",
     "text": [
      "20\n",
      "['2', '0']\n"
     ]
    }
   ],
   "source": [
    "num=int(input())\n",
    "print(num)\n",
    "num2=list(str(num))\n",
    "if num>0 or num<0:\n",
    "    print(num2)"
   ]
  },
  {
   "cell_type": "code",
   "execution_count": 26,
   "metadata": {},
   "outputs": [
    {
     "name": "stdout",
     "output_type": "stream",
     "text": [
      "i\n"
     ]
    }
   ],
   "source": [
    "num=int(input())\n",
    "ch=('shiva')\n",
    "ch1=len(ch)//2\n",
    "if num<125 and num>60:\n",
    "    print(ch[ch1])"
   ]
  },
  {
   "cell_type": "code",
   "execution_count": 27,
   "metadata": {},
   "outputs": [
    {
     "name": "stdout",
     "output_type": "stream",
     "text": [
      "2 2\n",
      "4\n"
     ]
    }
   ],
   "source": [
    "num1=int(input())\n",
    "num2=int(input())\n",
    "print(num1,num2)\n",
    "if num1==num2:\n",
    "    print(num1+num2)"
   ]
  },
  {
   "cell_type": "code",
   "execution_count": 28,
   "metadata": {},
   "outputs": [
    {
     "name": "stdout",
     "output_type": "stream",
     "text": [
      "8.333333333333334\n"
     ]
    }
   ],
   "source": [
    "num1=int(input())\n",
    "num2=int(input())\n",
    "num4=(num1*num2)/3 \n",
    "if num1==num2:\n",
    "    print(num4)"
   ]
  },
  {
   "cell_type": "code",
   "execution_count": 30,
   "metadata": {},
   "outputs": [
    {
     "name": "stdout",
     "output_type": "stream",
     "text": [
      "{'d': 100}\n"
     ]
    }
   ],
   "source": [
    "ch=input()\n",
    "if (ch>='A' and ch<='Z') or (ch>='a' and ch<='z'):\n",
    "    ch1=ord(ch)\n",
    "    d={ch:ch1}\n",
    "    print(d)"
   ]
  },
  {
   "cell_type": "code",
   "execution_count": 31,
   "metadata": {},
   "outputs": [
    {
     "name": "stdout",
     "output_type": "stream",
     "text": [
      "{'A': 65}\n"
     ]
    }
   ],
   "source": [
    "ch=input()\n",
    "if (ch>='A' and ch<='Z') :\n",
    "    ch1=ord(ch)\n",
    "    d={ch:ch1}\n",
    "    print(d)"
   ]
  },
  {
   "cell_type": "code",
   "execution_count": 32,
   "metadata": {},
   "outputs": [
    {
     "name": "stdout",
     "output_type": "stream",
     "text": [
      "{97: 'a'}\n"
     ]
    }
   ],
   "source": [
    "ch=input()\n",
    "ch1=ord(ch)+32\n",
    "ch2=chr(ch1)\n",
    "if (ch>='A' and ch<='Z'): \n",
    "    print({ch1:ch2})\n",
    "    "
   ]
  },
  {
   "cell_type": "code",
   "execution_count": null,
   "metadata": {},
   "outputs": [],
   "source": [
    "31"
   ]
  },
  {
   "cell_type": "code",
   "execution_count": 33,
   "metadata": {},
   "outputs": [
    {
     "name": "stdout",
     "output_type": "stream",
     "text": [
      "aaa\n"
     ]
    }
   ],
   "source": [
    "ch=input()\n",
    "if ch>='a' and ch<='z':\n",
    "    print(ch*3)"
   ]
  },
  {
   "cell_type": "code",
   "execution_count": 34,
   "metadata": {},
   "outputs": [
    {
     "name": "stdout",
     "output_type": "stream",
     "text": [
      "$\n",
      "36\n"
     ]
    }
   ],
   "source": [
    "ch=input()\n",
    "if ((ch!='A' and ch!='Z') and (ch!='a' and  ch!='z') and (ch!='0' and ch!='9')):\n",
    "    print(ch)\n",
    "    print(ord(ch))\n",
    "    "
   ]
  },
  {
   "cell_type": "code",
   "execution_count": 35,
   "metadata": {},
   "outputs": [
    {
     "name": "stdout",
     "output_type": "stream",
     "text": [
      "d\n",
      "100\n",
      "even num\n"
     ]
    }
   ],
   "source": [
    "ch=input()\n",
    "ch1=ord(ch)\n",
    "if ch1%2==0:\n",
    "    print(ch)\n",
    "    print(ch1)\n",
    "    print('even num')"
   ]
  },
  {
   "cell_type": "code",
   "execution_count": 36,
   "metadata": {},
   "outputs": [
    {
     "name": "stdout",
     "output_type": "stream",
     "text": [
      "10\n",
      "100\n"
     ]
    }
   ],
   "source": [
    "a=int(input())\n",
    "b=int(input())\n",
    "if a==10 or b==10 or a+b==10:\n",
    "    print(a+b)\n",
    "    print((a+b)**2)\n"
   ]
  },
  {
   "cell_type": "code",
   "execution_count": 37,
   "metadata": {},
   "outputs": [
    {
     "name": "stdout",
     "output_type": "stream",
     "text": [
      "a\n",
      "b\n"
     ]
    }
   ],
   "source": [
    "ch=input()\n",
    "print(ch)\n",
    "ch1=ord(ch)\n",
    "ch2=chr(ch1+1)\n",
    "if ch in ('aeiouAEIOU'):\n",
    "    print(ch2)"
   ]
  },
  {
   "cell_type": "code",
   "execution_count": 40,
   "metadata": {},
   "outputs": [
    {
     "name": "stdout",
     "output_type": "stream",
     "text": [
      "s\n",
      "r\n"
     ]
    }
   ],
   "source": [
    "ch=input()\n",
    "print(ch)\n",
    "ch1=ord(ch)\n",
    "ch2=chr(ch1-1)\n",
    "if ch not in ('aeiouAEIOU'):\n",
    "    print(ch2)"
   ]
  },
  {
   "cell_type": "code",
   "execution_count": 41,
   "metadata": {},
   "outputs": [
    {
     "name": "stdout",
     "output_type": "stream",
     "text": [
      "1\n",
      "single value data type\n"
     ]
    }
   ],
   "source": [
    "a=1\n",
    "print(a)\n",
    "if type(a) in [int,float,bool,complex]:\n",
    "    print('single value data type') "
   ]
  },
  {
   "cell_type": "code",
   "execution_count": 42,
   "metadata": {},
   "outputs": [
    {
     "name": "stdout",
     "output_type": "stream",
     "text": [
      "abc\n",
      "('a', 'b', 'c')\n"
     ]
    }
   ],
   "source": [
    "a='abc'\n",
    "if type(a) in [str,tuple,set,dict] :\n",
    "    print(a)\n",
    "    print(tuple(a))"
   ]
  },
  {
   "cell_type": "code",
   "execution_count": 43,
   "metadata": {},
   "outputs": [
    {
     "name": "stdout",
     "output_type": "stream",
     "text": [
      "{'s'}\n"
     ]
    }
   ],
   "source": [
    "a=input()\n",
    "if type(a) in [str,tuple,int,float,bool]:\n",
    "    print(set(a))"
   ]
  },
  {
   "cell_type": "code",
   "execution_count": 46,
   "metadata": {},
   "outputs": [
    {
     "name": "stdout",
     "output_type": "stream",
     "text": [
      "['1', '0']\n",
      "odd\n"
     ]
    }
   ],
   "source": [
    "num=list(input())\n",
    "num2=len(num)\n",
    "num3=num2//2\n",
    "if num3%2==1:\n",
    "    print(num)\n",
    "    print('odd')"
   ]
  },
  {
   "cell_type": "code",
   "execution_count": 48,
   "metadata": {},
   "outputs": [
    {
     "ename": "SyntaxError",
     "evalue": "invalid syntax (958268814.py, line 2)",
     "output_type": "error",
     "traceback": [
      "\u001b[1;36m  Cell \u001b[1;32mIn[48], line 2\u001b[1;36m\u001b[0m\n\u001b[1;33m    if st[0]==\u001b[0m\n\u001b[1;37m              ^\u001b[0m\n\u001b[1;31mSyntaxError\u001b[0m\u001b[1;31m:\u001b[0m invalid syntax\n"
     ]
    }
   ],
   "source": [
    "st=input()\n",
    "if st[0]=="
   ]
  },
  {
   "cell_type": "code",
   "execution_count": 49,
   "metadata": {},
   "outputs": [
    {
     "name": "stdout",
     "output_type": "stream",
     "text": [
      "140713621488512 140713621488512\n"
     ]
    }
   ],
   "source": [
    "a='a'\n",
    "b='a'\n",
    "if a is b:\n",
    "    print(id(a),id(b))"
   ]
  },
  {
   "cell_type": "code",
   "execution_count": 52,
   "metadata": {},
   "outputs": [
    {
     "ename": "TypeError",
     "evalue": "not all arguments converted during string formatting",
     "output_type": "error",
     "traceback": [
      "\u001b[1;31m---------------------------------------------------------------------------\u001b[0m",
      "\u001b[1;31mTypeError\u001b[0m                                 Traceback (most recent call last)",
      "Cell \u001b[1;32mIn[52], line 3\u001b[0m\n\u001b[0;32m      1\u001b[0m st\u001b[38;5;241m=\u001b[39m\u001b[38;5;28minput\u001b[39m()\n\u001b[0;32m      2\u001b[0m mid\u001b[38;5;241m=\u001b[39m\u001b[38;5;28mlen\u001b[39m(st)\n\u001b[1;32m----> 3\u001b[0m \u001b[38;5;28;01mif\u001b[39;00m \u001b[43mst\u001b[49m\u001b[38;5;241;43m%\u001b[39;49m\u001b[38;5;241;43m2\u001b[39;49m\u001b[38;5;241m==\u001b[39m\u001b[38;5;241m0\u001b[39m:\n\u001b[0;32m      4\u001b[0m     st2\u001b[38;5;241m=\u001b[39mst[\u001b[38;5;241m0\u001b[39m] \u001b[38;5;129;01mand\u001b[39;00m st[\u001b[38;5;241m-\u001b[39m\u001b[38;5;241m1\u001b[39m] \u001b[38;5;129;01mand\u001b[39;00m st[\u001b[38;5;241m-\u001b[39m\u001b[38;5;241m2\u001b[39m]\n\u001b[0;32m      5\u001b[0m     \u001b[38;5;28mprint\u001b[39m(st2)\n",
      "\u001b[1;31mTypeError\u001b[0m: not all arguments converted during string formatting"
     ]
    }
   ],
   "source": [
    "st=input()\n",
    "mid=len(st)\n",
    "if st%2==0:\n",
    "    st2=st[0] and st[-1] and st[-2]\n",
    "    print(st2)"
   ]
  },
  {
   "cell_type": "code",
   "execution_count": 53,
   "metadata": {},
   "outputs": [
    {
     "name": "stdout",
     "output_type": "stream",
     "text": [
      "shiva shiva\n"
     ]
    }
   ],
   "source": [
    "st1=input()\n",
    "st2=input()\n",
    "if st1==st2:\n",
    "    st1==st2\n",
    "    st2==st1\n",
    "    print(st1,st2)\n"
   ]
  },
  {
   "cell_type": "code",
   "execution_count": 54,
   "metadata": {},
   "outputs": [
    {
     "name": "stdout",
     "output_type": "stream",
     "text": [
      "{'$': 36}\n"
     ]
    }
   ],
   "source": [
    "ch=input()\n",
    "if not ((ch>='A' and ch<='Z') or (ch>='a' and  num<='z') or (ch>='0' and ch<='9')):\n",
    "    ch1=ord(ch)\n",
    "    d={ch:ch1}\n",
    "    print(d)"
   ]
  },
  {
   "cell_type": "code",
   "execution_count": 55,
   "metadata": {},
   "outputs": [
    {
     "name": "stdout",
     "output_type": "stream",
     "text": [
      "{1: 123, 4: '1234'}\n"
     ]
    }
   ],
   "source": [
    "d=4\n",
    "dict={1:123}\n",
    "if d is not dict:\n",
    "    dict[d]='1234'\n",
    "    print(dict)"
   ]
  },
  {
   "cell_type": "code",
   "execution_count": null,
   "metadata": {},
   "outputs": [],
   "source": [
    "48 no"
   ]
  },
  {
   "cell_type": "code",
   "execution_count": 60,
   "metadata": {},
   "outputs": [
    {
     "name": "stdout",
     "output_type": "stream",
     "text": [
      "52\n",
      "2 is a last digit\n"
     ]
    }
   ],
   "source": [
    "num=int(input())\n",
    "num1=num%10\n",
    "if num1==2:\n",
    "    print(num)\n",
    "    print(num1,'is a last digit')"
   ]
  },
  {
   "cell_type": "code",
   "execution_count": 61,
   "metadata": {},
   "outputs": [
    {
     "name": "stdout",
     "output_type": "stream",
     "text": [
      "20\n",
      "400\n"
     ]
    }
   ],
   "source": [
    "a=int(input())\n",
    "b=int(input())\n",
    "if a==10 or b==10 or a+b==10:\n",
    "    print(a+b)\n",
    "    print((a+b)**2)\n"
   ]
  },
  {
   "cell_type": "code",
   "execution_count": null,
   "metadata": {},
   "outputs": [],
   "source": [
    "51 no"
   ]
  },
  {
   "cell_type": "code",
   "execution_count": 62,
   "metadata": {},
   "outputs": [
    {
     "name": "stdout",
     "output_type": "stream",
     "text": [
      "shiva 5\n",
      "sgi 3\n"
     ]
    }
   ],
   "source": [
    "st=input()\n",
    "st1=input()\n",
    "if st != st1:\n",
    "    print(st,len(st))\n",
    "    print(st1,len(st1))"
   ]
  },
  {
   "cell_type": "markdown",
   "metadata": {},
   "source": [
    "IF ELSE STATEMENTS\n"
   ]
  },
  {
   "cell_type": "code",
   "execution_count": 63,
   "metadata": {},
   "outputs": [
    {
     "name": "stdout",
     "output_type": "stream",
     "text": [
      "25\n",
      "positive\n"
     ]
    }
   ],
   "source": [
    "num=int(input())\n",
    "print(num)\n",
    "if num>0:\n",
    "    print('positive')\n",
    "else:\n",
    "    print('negative')"
   ]
  },
  {
   "cell_type": "code",
   "execution_count": 64,
   "metadata": {},
   "outputs": [
    {
     "name": "stdout",
     "output_type": "stream",
     "text": [
      "10\n",
      "even\n"
     ]
    }
   ],
   "source": [
    "num=int(input())\n",
    "print(num)\n",
    "if num%2==0:\n",
    "    print('even')\n",
    "else:\n",
    "    print('odd')"
   ]
  },
  {
   "cell_type": "code",
   "execution_count": 66,
   "metadata": {},
   "outputs": [
    {
     "name": "stdout",
     "output_type": "stream",
     "text": [
      "5\n",
      "not greater\n"
     ]
    }
   ],
   "source": [
    "num=int(input())\n",
    "print(num)\n",
    "if num>10:\n",
    "    print('greater')\n",
    "else:\n",
    "    print('not greater')"
   ]
  },
  {
   "cell_type": "code",
   "execution_count": 67,
   "metadata": {},
   "outputs": [
    {
     "name": "stdout",
     "output_type": "stream",
     "text": [
      "10\n",
      "not between\n"
     ]
    }
   ],
   "source": [
    "num=int(input())\n",
    "print(num)\n",
    "if num>45 and num<125:\n",
    "    print(chr(num))\n",
    "else:\n",
    "    print('not between')"
   ]
  },
  {
   "cell_type": "code",
   "execution_count": 68,
   "metadata": {},
   "outputs": [
    {
     "name": "stdout",
     "output_type": "stream",
     "text": [
      "good morning\n"
     ]
    }
   ],
   "source": [
    "num1=int(input())\n",
    "num2=int(input())\n",
    "if num1%3==0 and num1%5==0 and  num2%3==0 and num2%5==0:\n",
    "    print('good morning')\n",
    "else:\n",
    "    print('good evening')"
   ]
  },
  {
   "cell_type": "code",
   "execution_count": 69,
   "metadata": {},
   "outputs": [
    {
     "name": "stdout",
     "output_type": "stream",
     "text": [
      "25 0\n"
     ]
    }
   ],
   "source": [
    "num1=int(input())\n",
    "num2=int(input())\n",
    "if num1==num2:\n",
    "    num3=num1*num2\n",
    "    num4=num1%num2\n",
    "    print(num3,num4)\n",
    "else:\n",
    "    print('not equal')"
   ]
  },
  {
   "cell_type": "code",
   "execution_count": 71,
   "metadata": {},
   "outputs": [
    {
     "name": "stdout",
     "output_type": "stream",
     "text": [
      "15 25\n",
      "num2 is greater\n"
     ]
    }
   ],
   "source": [
    "num1=int(input())\n",
    "num2=int(input())\n",
    "print(num1,num2)\n",
    "if num1>num2:\n",
    "    print('num1 is greater')\n",
    "else:\n",
    "    print('num2 is greater')"
   ]
  },
  {
   "cell_type": "code",
   "execution_count": 72,
   "metadata": {},
   "outputs": [
    {
     "name": "stdout",
     "output_type": "stream",
     "text": [
      "8\n",
      "not greater\n"
     ]
    }
   ],
   "source": [
    "num=int(input())\n",
    "if num>10:\n",
    "    print(num)\n",
    "    print('greater')\n",
    "else:\n",
    "    print(num)\n",
    "    print('not greater')\n",
    "        "
   ]
  },
  {
   "cell_type": "code",
   "execution_count": 73,
   "metadata": {},
   "outputs": [
    {
     "name": "stdout",
     "output_type": "stream",
     "text": [
      "20\n",
      "1\n"
     ]
    }
   ],
   "source": [
    "num=int(input())\n",
    "print(num)\n",
    "if num>21:\n",
    "    print(num-21)\n",
    "else:\n",
    "    print((num-21)**2)"
   ]
  },
  {
   "cell_type": "code",
   "execution_count": 74,
   "metadata": {},
   "outputs": [
    {
     "name": "stdout",
     "output_type": "stream",
     "text": [
      "25 42\n",
      "num1 is lesser\n"
     ]
    }
   ],
   "source": [
    "num1=int(input())\n",
    "num2=int(input())\n",
    "print(num1,num2)\n",
    "if num1<num2:\n",
    "    print('num1 is lesser')\n",
    "else:\n",
    "    print('num2 is lesser')"
   ]
  },
  {
   "cell_type": "code",
   "execution_count": 75,
   "metadata": {},
   "outputs": [
    {
     "name": "stdout",
     "output_type": "stream",
     "text": [
      "25\n",
      "26\n"
     ]
    }
   ],
   "source": [
    "num=int(input())\n",
    "print(num)\n",
    "if num%2==0:\n",
    "    num1=num+10\n",
    "    print(num1)\n",
    "else:\n",
    "    num2=num+1\n",
    "    print(num2)"
   ]
  },
  {
   "cell_type": "code",
   "execution_count": 76,
   "metadata": {},
   "outputs": [
    {
     "name": "stdout",
     "output_type": "stream",
     "text": [
      "15\n"
     ]
    }
   ],
   "source": [
    "num=int(input())\n",
    "if num%3==0:\n",
    "    print(num)\n",
    "else:\n",
    "    print(num**3)"
   ]
  },
  {
   "cell_type": "code",
   "execution_count": 78,
   "metadata": {},
   "outputs": [
    {
     "name": "stdout",
     "output_type": "stream",
     "text": [
      "['2', '5']\n"
     ]
    }
   ],
   "source": [
    "num=int(input())\n",
    "if num%3==0 and num%5==0:\n",
    "    print(num)\n",
    "else:\n",
    "    num1=list(str(num))\n",
    "    print(num1)"
   ]
  },
  {
   "cell_type": "code",
   "execution_count": 79,
   "metadata": {},
   "outputs": [
    {
     "name": "stdout",
     "output_type": "stream",
     "text": [
      "15\n",
      "225\n"
     ]
    }
   ],
   "source": [
    "num=int(input())\n",
    "print(num)\n",
    "if num>1 and num<19:\n",
    "    print(num**2)\n",
    "else:\n",
    "    print(num)\n",
    "    print(num**3)\n",
    "    "
   ]
  },
  {
   "cell_type": "code",
   "execution_count": 80,
   "metadata": {},
   "outputs": [
    {
     "name": "stdout",
     "output_type": "stream",
     "text": [
      "pass\n"
     ]
    }
   ],
   "source": [
    "marks=int(input())\n",
    "if marks>40:\n",
    "    print('pass')\n",
    "else:\n",
    "    print('fail')"
   ]
  },
  {
   "cell_type": "code",
   "execution_count": 81,
   "metadata": {},
   "outputs": [
    {
     "name": "stdout",
     "output_type": "stream",
     "text": [
      "25\n",
      "5\n"
     ]
    }
   ],
   "source": [
    "num=int(input())\n",
    "print(num)\n",
    "if num%2==0 and num>47 and num<58 and  num!=0:\n",
    "    print(chr(num))\n",
    "else:\n",
    "    print(num//5)"
   ]
  },
  {
   "cell_type": "code",
   "execution_count": 82,
   "metadata": {},
   "outputs": [
    {
     "name": "stdout",
     "output_type": "stream",
     "text": [
      "{65: 'shiva'}\n"
     ]
    }
   ],
   "source": [
    "num=int(input())\n",
    "if num<125 and num>47 and num<125:\n",
    "    d={num:'shiva'}\n",
    "    print(d) \n",
    "else:\n",
    "    print(list(str(num)))"
   ]
  },
  {
   "cell_type": "code",
   "execution_count": 83,
   "metadata": {},
   "outputs": [
    {
     "name": "stdout",
     "output_type": "stream",
     "text": [
      "A\n",
      "alphabet\n"
     ]
    }
   ],
   "source": [
    "ch=input()\n",
    "if ch>='A' and ch<='Z' or ch>='a' and ch<='z':\n",
    "    print(ch)\n",
    "    print('alphabet')\n",
    "else:\n",
    "    print(ch)\n",
    "    print('not alphabet')"
   ]
  },
  {
   "cell_type": "code",
   "execution_count": 84,
   "metadata": {},
   "outputs": [
    {
     "name": "stdout",
     "output_type": "stream",
     "text": [
      "A\n",
      "upper case\n"
     ]
    }
   ],
   "source": [
    "ch=input()\n",
    "if ch>='A' and ch<='Z':\n",
    "    print(ch)\n",
    "    print('upper case')\n",
    "else:\n",
    "    print(ch)\n",
    "    print('other character')\n",
    "    \n"
   ]
  },
  {
   "cell_type": "code",
   "execution_count": 85,
   "metadata": {},
   "outputs": [
    {
     "name": "stdout",
     "output_type": "stream",
     "text": [
      "h\n",
      "lower case\n"
     ]
    }
   ],
   "source": [
    "ch=input()\n",
    "if ch>='a' and ch<='z':\n",
    "    print(ch)\n",
    "    print('lower case')\n",
    "else:\n",
    "    print(ch)\n",
    "    print('other character')\n",
    "    "
   ]
  },
  {
   "cell_type": "code",
   "execution_count": 86,
   "metadata": {},
   "outputs": [
    {
     "name": "stdout",
     "output_type": "stream",
     "text": [
      "S\n",
      "s\n"
     ]
    }
   ],
   "source": [
    "ch=input()\n",
    "print(ch)\n",
    "if ch>='A' and ch<='Z':\n",
    "    ch1=ord(ch)+32\n",
    "    ch2=chr(ch1)\n",
    "    print(ch2)\n",
    "else:\n",
    "    print(ord(ch))"
   ]
  },
  {
   "cell_type": "code",
   "execution_count": 88,
   "metadata": {},
   "outputs": [
    {
     "name": "stdout",
     "output_type": "stream",
     "text": [
      "H\n",
      "h\n"
     ]
    }
   ],
   "source": [
    "ch=input()\n",
    "print(ch)\n",
    "if  ch>='a' and ch<='z':\n",
    "    ch1=ord(ch)-32\n",
    "    ch2=chr(ch1)\n",
    "    print(ch2)\n",
    "else:\n",
    "    ch>='A' and ch<='Z'\n",
    "    ch1=ord(ch)+32\n",
    "    ch2=chr(ch1)\n",
    "    print(ch2)\n",
    "\n"
   ]
  },
  {
   "cell_type": "code",
   "execution_count": 89,
   "metadata": {},
   "outputs": [
    {
     "name": "stdout",
     "output_type": "stream",
     "text": [
      "*\n"
     ]
    }
   ],
   "source": [
    "st=input()\n",
    "st1=len(st)\n",
    "st2=st[0]\n",
    "mid=st1//2\n",
    "st3=st[mid]\n",
    "if not ((st>='A' and st<='Z') or  (st>='a' and  st<='z') or (st>='0' and st<='9')):\n",
    "    print(st3)\n",
    "else:\n",
    "    st4=st[::-1]"
   ]
  },
  {
   "cell_type": "code",
   "execution_count": 90,
   "metadata": {},
   "outputs": [
    {
     "name": "stdout",
     "output_type": "stream",
     "text": [
      "consonant\n"
     ]
    }
   ],
   "source": [
    "ch=input()\n",
    "if ch in \"aeiouAEIOU\":\n",
    "    print('vowel')\n",
    "else:\n",
    "    print('consonant')"
   ]
  },
  {
   "cell_type": "code",
   "execution_count": 91,
   "metadata": {},
   "outputs": [
    {
     "name": "stdout",
     "output_type": "stream",
     "text": [
      "B\n"
     ]
    }
   ],
   "source": [
    "ch=input()\n",
    "if ch in 'aeiouAEIOU':\n",
    "    ch1=ord(ch)\n",
    "    ch2=chr(ch1+1)\n",
    "    print(ch2)\n",
    "else:\n",
    "    ch3=ord(ch)\n",
    "    ch4=chr(ch3-1)\n",
    "    print(ch4)"
   ]
  },
  {
   "cell_type": "code",
   "execution_count": 92,
   "metadata": {},
   "outputs": [
    {
     "name": "stdout",
     "output_type": "stream",
     "text": [
      "A\n",
      "alphabet\n",
      "A\n"
     ]
    }
   ],
   "source": [
    "st=input()\n",
    "st1=st[0]\n",
    "if st>='A' and st<='Z' or st>='a' and st<='z':\n",
    "    print(st1)  \n",
    "    print('alphabet')\n",
    "    print(st[::-1])\n",
    "else:\n",
    "    st2=len(st)\n",
    "    st3=st2//2\n",
    "    st4=st(st3)\n",
    "    print(st4)\n"
   ]
  },
  {
   "cell_type": "code",
   "execution_count": 93,
   "metadata": {},
   "outputs": [
    {
     "name": "stdout",
     "output_type": "stream",
     "text": [
      "F\n",
      "f\n"
     ]
    }
   ],
   "source": [
    "ch=input()\n",
    "print(ch)\n",
    "if  ch>='a' and ch<='z':\n",
    "    ch1=ord(ch)-32\n",
    "    ch2=chr(ch1)\n",
    "    print(ch2)\n",
    "else:\n",
    "    ch>='A' and ch<='Z'\n",
    "    ch1=ord(ch)+32\n",
    "    ch2=chr(ch1)\n",
    "    print(ch2)\n"
   ]
  },
  {
   "cell_type": "code",
   "execution_count": null,
   "metadata": {},
   "outputs": [],
   "source": [
    "80"
   ]
  },
  {
   "cell_type": "code",
   "execution_count": 94,
   "metadata": {},
   "outputs": [
    {
     "name": "stdout",
     "output_type": "stream",
     "text": [
      "va\n"
     ]
    }
   ],
   "source": [
    "st=input()\n",
    "st1=len(st)\n",
    "if st1<3:\n",
    "    print(st)\n",
    "else:\n",
    "    print(st[3:])"
   ]
  },
  {
   "cell_type": "code",
   "execution_count": 95,
   "metadata": {},
   "outputs": [
    {
     "name": "stdout",
     "output_type": "stream",
     "text": [
      "s a\n"
     ]
    }
   ],
   "source": [
    "st=input()\n",
    "st1=len(st)\n",
    "if st1%2==0:\n",
    "    st2=('bye'+st)\n",
    "    print(st2)\n",
    "else:\n",
    "    print(st[0],st[-1])"
   ]
  },
  {
   "cell_type": "code",
   "execution_count": 97,
   "metadata": {},
   "outputs": [
    {
     "name": "stdout",
     "output_type": "stream",
     "text": [
      "hailshiv\n"
     ]
    }
   ],
   "source": [
    "st=input()\n",
    "if len(st)%2==0:\n",
    "    print(\"hail\"+st)"
   ]
  },
  {
   "cell_type": "code",
   "execution_count": null,
   "metadata": {},
   "outputs": [],
   "source": [
    "83"
   ]
  },
  {
   "cell_type": "code",
   "execution_count": 99,
   "metadata": {},
   "outputs": [
    {
     "name": "stdout",
     "output_type": "stream",
     "text": [
      "not leep year\n"
     ]
    }
   ],
   "source": [
    "year=int(input())\n",
    "if year%4==0 and (year%100!=0 or year%400==0):\n",
    "    print('leep yaer')\n",
    "else:\n",
    "    print('not leep year')"
   ]
  },
  {
   "cell_type": "code",
   "execution_count": 100,
   "metadata": {},
   "outputs": [
    {
     "name": "stdout",
     "output_type": "stream",
     "text": [
      "25 42\n",
      "not greater\n"
     ]
    }
   ],
   "source": [
    "num1=int(input())\n",
    "num2=int(input())\n",
    "print(num1,num2)\n",
    "if num1>num2:\n",
    "    print('greater')\n",
    "else:\n",
    "    print('not greater')"
   ]
  },
  {
   "cell_type": "code",
   "execution_count": 102,
   "metadata": {},
   "outputs": [
    {
     "name": "stdout",
     "output_type": "stream",
     "text": [
      "avilable\n"
     ]
    }
   ],
   "source": [
    "ch=input()\n",
    "if ch in ('Shiva'):\n",
    "    print('avilable')\n",
    "else:\n",
    "    print('not avilable') \n"
   ]
  },
  {
   "cell_type": "code",
   "execution_count": null,
   "metadata": {},
   "outputs": [],
   "source": [
    "91 same as 86"
   ]
  },
  {
   "cell_type": "code",
   "execution_count": 103,
   "metadata": {},
   "outputs": [
    {
     "ename": "TypeError",
     "evalue": "'dict' object is not callable",
     "output_type": "error",
     "traceback": [
      "\u001b[1;31m---------------------------------------------------------------------------\u001b[0m",
      "\u001b[1;31mTypeError\u001b[0m                                 Traceback (most recent call last)",
      "Cell \u001b[1;32mIn[103], line 6\u001b[0m\n\u001b[0;32m      4\u001b[0m     \u001b[38;5;28mprint\u001b[39m(dic(ch))\n\u001b[0;32m      5\u001b[0m \u001b[38;5;28;01melse\u001b[39;00m:\n\u001b[1;32m----> 6\u001b[0m     d\u001b[38;5;241m=\u001b[39m\u001b[43mdic\u001b[49m\u001b[43m(\u001b[49m\u001b[38;5;241;43m1\u001b[39;49m\u001b[43m)\u001b[49m\u001b[38;5;241m==\u001b[39m{\u001b[38;5;124m'\u001b[39m\u001b[38;5;124mabc\u001b[39m\u001b[38;5;124m'\u001b[39m}\n\u001b[0;32m      7\u001b[0m     \u001b[38;5;28mprint\u001b[39m(d)\n",
      "\u001b[1;31mTypeError\u001b[0m: 'dict' object is not callable"
     ]
    }
   ],
   "source": [
    "ch='5'\n",
    "dic={1:'123',2:'234',3:'345'}\n",
    "if ch in dic:\n",
    "    print(dic(ch))\n",
    "else:\n",
    "    d=dic(1)=={'abc'}\n",
    "    print(d)"
   ]
  },
  {
   "cell_type": "code",
   "execution_count": 104,
   "metadata": {},
   "outputs": [
    {
     "name": "stdout",
     "output_type": "stream",
     "text": [
      "{2, 5, 6, 7}\n"
     ]
    }
   ],
   "source": [
    "l={5,2,6}\n",
    "if type(l)==set:\n",
    "    l.add(7)\n",
    "    print(l)\n",
    "else:\n",
    "    print(set(l))\n"
   ]
  },
  {
   "cell_type": "code",
   "execution_count": 105,
   "metadata": {},
   "outputs": [
    {
     "name": "stdout",
     "output_type": "stream",
     "text": [
      "eligible\n"
     ]
    }
   ],
   "source": [
    "age=int(input())\n",
    "if age>18:\n",
    "    print('eligible')\n",
    "else:\n",
    "    print('not elgible')"
   ]
  },
  {
   "cell_type": "code",
   "execution_count": 107,
   "metadata": {},
   "outputs": [
    {
     "name": "stdout",
     "output_type": "stream",
     "text": [
      "8\n"
     ]
    }
   ],
   "source": [
    "num=int(input())\n",
    "if num >47 and num<58 and num !=0 or num%2==1:\n",
    "    print(chr(num))\n",
    "else:\n",
    "    print(num//5)"
   ]
  },
  {
   "cell_type": "code",
   "execution_count": null,
   "metadata": {},
   "outputs": [],
   "source": [
    "96 and 97 no"
   ]
  },
  {
   "cell_type": "code",
   "execution_count": 108,
   "metadata": {},
   "outputs": [
    {
     "name": "stdout",
     "output_type": "stream",
     "text": [
      "shiva shiva\n"
     ]
    }
   ],
   "source": [
    "st=input()\n",
    "st1=input()\n",
    "if len(st)==len(st1):\n",
    "    print(st,st1)\n",
    "else:\n",
    "    print(st,len(st))\n",
    "    print(st1,len(st1))"
   ]
  },
  {
   "cell_type": "code",
   "execution_count": 109,
   "metadata": {},
   "outputs": [
    {
     "name": "stdout",
     "output_type": "stream",
     "text": [
      "a c\n"
     ]
    }
   ],
   "source": [
    "a=['a','b','c']\n",
    "b=['a','b','c']\n",
    "if a is b:\n",
    "    c=len(b)\n",
    "    print(b[c])\n",
    "else:\n",
    "    print(a[0],a[-1]),id(a[0]),id(a[-1])"
   ]
  },
  {
   "cell_type": "code",
   "execution_count": 110,
   "metadata": {},
   "outputs": [
    {
     "name": "stdout",
     "output_type": "stream",
     "text": [
      "shivashivashiva\n"
     ]
    }
   ],
   "source": [
    "st=input()\n",
    "if len(st)>10 and (ord(st[0]+ord(st[-1]))%5==0):\n",
    "    mid=len(st//2)\n",
    "    print(st[0],st[-1],st[mid])\n",
    "else:\n",
    "    print(st*3)"
   ]
  },
  {
   "cell_type": "code",
   "execution_count": 111,
   "metadata": {},
   "outputs": [
    {
     "name": "stdout",
     "output_type": "stream",
     "text": [
      "[1, 2, 3]\n"
     ]
    }
   ],
   "source": [
    "l=[1,2,3]\n",
    "if type(l[len(l)//2]) not in [str]:\n",
    "    print(l)\n",
    "else:\n",
    "    print(l[len(l)//2])"
   ]
  },
  {
   "cell_type": "code",
   "execution_count": 112,
   "metadata": {},
   "outputs": [
    {
     "name": "stdout",
     "output_type": "stream",
     "text": [
      "35\n"
     ]
    }
   ],
   "source": [
    "num=int(input())\n",
    "if num%7==0 and num%5==0:\n",
    "    print(num)\n",
    "else:\n",
    "    print(num*4)"
   ]
  },
  {
   "cell_type": "code",
   "execution_count": 114,
   "metadata": {},
   "outputs": [
    {
     "name": "stdout",
     "output_type": "stream",
     "text": [
      "140713622558248 140713622558248\n"
     ]
    }
   ],
   "source": [
    "i=int(input())\n",
    "i1=int(input())\n",
    "if i is i1:\n",
    "    print(id(i),id(i1))\n",
    "else:\n",
    "    print(i,i1)"
   ]
  },
  {
   "cell_type": "code",
   "execution_count": 115,
   "metadata": {},
   "outputs": [
    {
     "name": "stdout",
     "output_type": "stream",
     "text": [
      "*****\n",
      "***\n",
      "*\n"
     ]
    }
   ],
   "source": [
    "ch=input()\n",
    "if not (ch>='a' and ch<='z' or ch>='A' and ch<='Z' or ch>='0' and ch<='9'):\n",
    "    print(ch*5)\n",
    "    print(ch*3)\n",
    "    print(ch)"
   ]
  },
  {
   "cell_type": "code",
   "execution_count": 116,
   "metadata": {},
   "outputs": [
    {
     "name": "stdout",
     "output_type": "stream",
     "text": [
      "ap\n"
     ]
    }
   ],
   "source": [
    "st1='apple'\n",
    "st2='apple'\n",
    "if len(st1)==len(st2):\n",
    "    print(st1[0]+st2[1])\n",
    "else:\n",
    "    print(st1,st2)"
   ]
  },
  {
   "cell_type": "code",
   "execution_count": 117,
   "metadata": {},
   "outputs": [
    {
     "name": "stdout",
     "output_type": "stream",
     "text": [
      "a\n",
      "140713622603520\n"
     ]
    }
   ],
   "source": [
    "s='abc'\n",
    "s1='abb'\n",
    "if s is s1:\n",
    "    print(s1[-1])\n",
    "else:\n",
    "    print(s[0])\n",
    "    print(id(s[0]))"
   ]
  },
  {
   "cell_type": "code",
   "execution_count": 118,
   "metadata": {},
   "outputs": [
    {
     "name": "stdout",
     "output_type": "stream",
     "text": [
      "aeiouaeiouaeiou\n"
     ]
    }
   ],
   "source": [
    "l='aeiou'\n",
    "mid=len(l)//2\n",
    "if len(l)>3 and l[mid] in 'aeiouAEIOU' and ord(l[0])%2==0:\n",
    "    l2=l[mid-1]\n",
    "    print(l2)\n",
    "    print(l*5)\n",
    "elif ord(l[0])%2!=0:\n",
    "    print(l*3)"
   ]
  },
  {
   "cell_type": "code",
   "execution_count": 119,
   "metadata": {},
   "outputs": [
    {
     "name": "stdout",
     "output_type": "stream",
     "text": [
      "got out\n"
     ]
    }
   ],
   "source": [
    "pen=input()\n",
    "if pen == 'cello' or pen=='red':\n",
    "    pencost=10\n",
    "    print('pen is in the shop')\n",
    "else:\n",
    "    print('got out')"
   ]
  },
  {
   "cell_type": "code",
   "execution_count": 120,
   "metadata": {},
   "outputs": [
    {
     "name": "stdout",
     "output_type": "stream",
     "text": [
      "-2\n"
     ]
    }
   ],
   "source": [
    "a=[1,2,3,4,5]\n",
    "mid=len(a)//2\n",
    "if a[mid]%2==0 and a[0]%2==0:\n",
    "    print(a[0]+a[mid])\n",
    "else:\n",
    "    print(a[0]-a[mid])\n"
   ]
  },
  {
   "cell_type": "code",
   "execution_count": 121,
   "metadata": {},
   "outputs": [
    {
     "name": "stdout",
     "output_type": "stream",
     "text": [
      "2965316740032 2965313751616\n"
     ]
    }
   ],
   "source": [
    "l1=['4',7,8]\n",
    "l2=[1,2,3,4]\n",
    "if type(l1[0] is int and type (l2[0])) is int:\n",
    "    l3=l1+l2\n",
    "    print(l3)\n",
    "else:\n",
    "    print(id(l1), id (l2))"
   ]
  }
 ],
 "metadata": {
  "kernelspec": {
   "display_name": "Python 3",
   "language": "python",
   "name": "python3"
  },
  "language_info": {
   "codemirror_mode": {
    "name": "ipython",
    "version": 3
   },
   "file_extension": ".py",
   "mimetype": "text/x-python",
   "name": "python",
   "nbconvert_exporter": "python",
   "pygments_lexer": "ipython3",
   "version": "3.11.0"
  }
 },
 "nbformat": 4,
 "nbformat_minor": 2
}
