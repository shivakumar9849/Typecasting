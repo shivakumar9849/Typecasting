{
 "cells": [
  {
   "cell_type": "code",
   "execution_count": 1,
   "metadata": {},
   "outputs": [
    {
     "name": "stdout",
     "output_type": "stream",
     "text": [
      ")*#$ $*(,44321,ooe,dlrwllh\n"
     ]
    }
   ],
   "source": [
    "#128\n",
    "a='(*12hello3$ $4#world4*)'\n",
    "b=''\n",
    "c=''\n",
    "d=''\n",
    "e=''\n",
    "for i in a:\n",
    "    if (i>='a' and i<='z') and i not in 'aeiou':\n",
    "        b+=i\n",
    "    elif (i>='a' and i<='z') and i  in 'aeiou':\n",
    "        c+=i\n",
    "    elif i>='0' and i<='9':\n",
    "        d+=i\n",
    "    else:\n",
    "        e+=i\n",
    "print(e[::-1],d[::-1],c[::-1],b[::-1],sep=',')\n"
   ]
  },
  {
   "cell_type": "code",
   "execution_count": 2,
   "metadata": {},
   "outputs": [
    {
     "name": "stdout",
     "output_type": "stream",
     "text": [
      "hllwrld,eoo,12344,(*$ $#*)\n"
     ]
    }
   ],
   "source": [
    "#129\n",
    "a='(*12hello3$ $4#world4*)'\n",
    "b=''\n",
    "c=''\n",
    "d=''\n",
    "e=''\n",
    "for i in a:\n",
    "    if (i>='a' and i<='z') and i not in 'aeiou':\n",
    "        b+=i\n",
    "    elif (i>='a' and i<='z') and i  in 'aeiou':\n",
    "        c+=i\n",
    "    elif i>='0' and i<='9':\n",
    "        d+=i\n",
    "    else:\n",
    "        e+=i\n",
    "print(b,c,d,e,sep=',')"
   ]
  },
  {
   "cell_type": "code",
   "execution_count": 3,
   "metadata": {},
   "outputs": [
    {
     "name": "stdout",
     "output_type": "stream",
     "text": [
      "hllwrld,)*#$ $*(,eoo,44321\n"
     ]
    }
   ],
   "source": [
    "#130\n",
    "a='(*12hello3$ $4#world4*)'\n",
    "b=''\n",
    "c=''\n",
    "d=''\n",
    "e=''\n",
    "for i in a:\n",
    "    if (i>='a' and i<='z') and i not in 'aeiou':\n",
    "        b+=i\n",
    "    elif (i>='a' and i<='z') and i  in 'aeiou':\n",
    "        c+=i\n",
    "    elif i>='0' and i<='9':\n",
    "        d+=i\n",
    "    else:\n",
    "        e+=i\n",
    "print(b,e[::-1],c,d[::-1],sep=',')"
   ]
  },
  {
   "cell_type": "code",
   "execution_count": 4,
   "metadata": {},
   "outputs": [
    {
     "name": "stdout",
     "output_type": "stream",
     "text": [
      ")*#$ $*(,44321,ooe,dlrwllh\n"
     ]
    }
   ],
   "source": [
    "#131\n",
    "a='(*12hello3$ $4#world4*)'\n",
    "b=''\n",
    "c=''\n",
    "d=''\n",
    "e=''\n",
    "for i in a:\n",
    "    if (i>='a' and i<='z') and i not in 'aeiou':\n",
    "        b+=i\n",
    "    elif (i>='a' and i<='z') and i  in 'aeiou':\n",
    "        c+=i\n",
    "    elif i>='0' and i<='9':\n",
    "        d+=i\n",
    "    else:\n",
    "        e+=i\n",
    "print(e[::-1],d[::-1],c[::-1],b[::-1],sep=',')"
   ]
  },
  {
   "cell_type": "code",
   "execution_count": 5,
   "metadata": {},
   "outputs": [
    {
     "name": "stdout",
     "output_type": "stream",
     "text": [
      "dlrwllh,)*#$ $*(,ooe,44321\n"
     ]
    }
   ],
   "source": [
    "#132\n",
    "a='(*12hello3$ $4#world4*)'\n",
    "b=''\n",
    "c=''\n",
    "d=''\n",
    "e=''\n",
    "for i in a:\n",
    "    if (i>='a' and i<='z') and i not in 'aeiou':\n",
    "        b+=i\n",
    "    elif (i>='a' and i<='z') and i  in 'aeiou':\n",
    "        c+=i\n",
    "    elif i>='0' and i<='9':\n",
    "        d+=i\n",
    "    else:\n",
    "        e+=i\n",
    "print(b[::-1],e[::-1],c[::-1],d[::-1],sep=',')"
   ]
  },
  {
   "cell_type": "code",
   "execution_count": 6,
   "metadata": {},
   "outputs": [
    {
     "name": "stdout",
     "output_type": "stream",
     "text": [
      "h$ll*w*rld\n"
     ]
    }
   ],
   "source": [
    "#133\n",
    "a='HELLO WORLD'\n",
    "r=''\n",
    "for i in a:\n",
    "    if (i>='A' and i<='Z') and i not in 'AEIOU':\n",
    "        i=chr(ord(i)+32)\n",
    "        r+=i\n",
    "    elif i=='E':\n",
    "        r+=\"$\"\n",
    "    elif i=='O':\n",
    "        r+='*'\n",
    "print(r)"
   ]
  },
  {
   "cell_type": "code",
   "execution_count": 7,
   "metadata": {},
   "outputs": [
    {
     "name": "stdout",
     "output_type": "stream",
     "text": [
      "hllwrld21\n"
     ]
    }
   ],
   "source": [
    "#134\n",
    "ip='123HELLO WORLD456'\n",
    "res=''\n",
    "for i in ip:\n",
    "    if i>='A' and i<='Z' and i not in \"AEIOU\" and not(i>='0' and i<='9'):\n",
    "        i=chr(ord(i)+32)\n",
    "        res+=i\n",
    "res+=ip[1]+ip[0]\n",
    "print(res)"
   ]
  },
  {
   "cell_type": "code",
   "execution_count": 8,
   "metadata": {},
   "outputs": [
    {
     "name": "stdout",
     "output_type": "stream",
     "text": [
      "123hEllO wOrld456\n"
     ]
    }
   ],
   "source": [
    "#135\n",
    "a='123HELLO WORLD456'\n",
    "r=''\n",
    "for i in a:\n",
    "    if (i>='A' and i<='Z') and (i not in \"AEIOU\") and not (i>='0' and i<='9'):\n",
    "        r+=chr(ord(i)+32)\n",
    "    elif i in 'AEIOU' or i==' ':\n",
    "        r+=i\n",
    "    elif i>='0' and i<='9' :\n",
    "        r+=i\n",
    "print(r)"
   ]
  },
  {
   "cell_type": "code",
   "execution_count": 9,
   "metadata": {},
   "outputs": [
    {
     "name": "stdout",
     "output_type": "stream",
     "text": [
      "321hEllO wOrld654\n"
     ]
    }
   ],
   "source": [
    "#136\n",
    "a='123HELLO WORLD456'\n",
    "r=''\n",
    "r1=''\n",
    "r2=''\n",
    "for i in a:\n",
    "    if (i>='A' and i<='Z') and (i not in \"AEIOU\") and not (i>='0' and i<='9'):\n",
    "        r+=chr(ord(i)+32)\n",
    "    elif i in 'AEIOU' or i==' ':\n",
    "        r+=i\n",
    "    elif i>='0' and i<='3':\n",
    "        r1+=i\n",
    "    elif i>='4' and i<='6':\n",
    "        r2+=i\n",
    "print(r1[::-1]+r+r2[::-1])"
   ]
  },
  {
   "cell_type": "code",
   "execution_count": 10,
   "metadata": {},
   "outputs": [
    {
     "name": "stdout",
     "output_type": "stream",
     "text": [
      "321*E**O *O***654\n"
     ]
    }
   ],
   "source": [
    "#137\n",
    "a='123HELLO WORLD456'\n",
    "r=''\n",
    "r1=''\n",
    "r2=''\n",
    "for i in a:\n",
    "    if (i>='A' and i<='Z') and (i not in \"AEIOU\") and not (i>='0' and i<='9'):\n",
    "        d=chr(ord(i)+32)\n",
    "        r+='*'\n",
    "    elif i in 'AEIOU' or i==' ':\n",
    "        r+=i\n",
    "    elif i>='0' and i<='3':\n",
    "        r1+=i\n",
    "    elif i>='4' and i<='6':\n",
    "        r2+=i\n",
    "print(r1[::-1]+r+r2[::-1])"
   ]
  },
  {
   "cell_type": "code",
   "execution_count": 11,
   "metadata": {},
   "outputs": [
    {
     "name": "stdout",
     "output_type": "stream",
     "text": [
      "123*E**O *O***456\n"
     ]
    }
   ],
   "source": [
    "#138\n",
    "a='123HELLO WORLD456'\n",
    "r=''\n",
    "r1=''\n",
    "r2=''\n",
    "for i in a:\n",
    "    if (i>='A' and i<='Z') and (i not in \"AEIOU\") and not (i>='0' and i<='9'):\n",
    "        d=chr(ord(i)+32)\n",
    "        r+='*'\n",
    "    elif i in 'AEIOU' or i==' ':\n",
    "        r+=i\n",
    "    elif i>='0' and i<='3':\n",
    "        r1+=i\n",
    "    elif i>='4' and i<='6':\n",
    "        r2+=i\n",
    "print(r1+r+r2)"
   ]
  },
  {
   "cell_type": "code",
   "execution_count": 12,
   "metadata": {},
   "outputs": [
    {
     "name": "stdout",
     "output_type": "stream",
     "text": [
      "h$ll*w*rld\n"
     ]
    }
   ],
   "source": [
    "#139\n",
    "ip='HELLOWORLD'\n",
    "res=''\n",
    "for i in ip:\n",
    "    if i>='A' and i<='Z' and i not in \"AEIOU\":\n",
    "        i=chr(ord(i)+32)\n",
    "        res+=i\n",
    "    elif i=='E':\n",
    "        res+=\"$\"\n",
    "    elif i=='O':\n",
    "        res+=\"*\"    \n",
    "print(res)    "
   ]
  },
  {
   "cell_type": "code",
   "execution_count": 13,
   "metadata": {},
   "outputs": [
    {
     "name": "stdout",
     "output_type": "stream",
     "text": [
      "axbycz\n"
     ]
    }
   ],
   "source": [
    "#140\n",
    "ip1=\"abc\"\n",
    "ip2='xyz'\n",
    "r=''\n",
    "i=0\n",
    "while i<len(ip1):\n",
    "    r+=ip1[i]+ip2[i]\n",
    "    i+=1\n",
    "print(r)"
   ]
  },
  {
   "cell_type": "code",
   "execution_count": 14,
   "metadata": {},
   "outputs": [
    {
     "name": "stdout",
     "output_type": "stream",
     "text": [
      "axbyczw\n"
     ]
    }
   ],
   "source": [
    "#141\n",
    "a='abc'\n",
    "b='xyzw'\n",
    "i=0\n",
    "r=''\n",
    "while i<len(a) or i<len(b):\n",
    "    if i<len(a):\n",
    "        r+=a[i]\n",
    "    if i<len(b):\n",
    "        r+=b[i]\n",
    "    i+=1    \n",
    "print(r)"
   ]
  },
  {
   "cell_type": "code",
   "execution_count": 15,
   "metadata": {},
   "outputs": [
    {
     "name": "stdout",
     "output_type": "stream",
     "text": [
      "axbyczd\n"
     ]
    }
   ],
   "source": [
    "#142\n",
    "a='abcd'\n",
    "b='xyz'\n",
    "i=0\n",
    "r=''\n",
    "while i<len(a) or i<len(b):\n",
    "    if i<len(a):\n",
    "        r+=a[i]\n",
    "    if i<len(b):\n",
    "        r+=b[i]\n",
    "    i+=1    \n",
    "print(r)"
   ]
  },
  {
   "cell_type": "code",
   "execution_count": 16,
   "metadata": {},
   "outputs": [
    {
     "name": "stdout",
     "output_type": "stream",
     "text": [
      "axbyczdwop\n"
     ]
    }
   ],
   "source": [
    "#142\n",
    "a='abcd'\n",
    "b='xyzwop'\n",
    "i=0\n",
    "r=''\n",
    "while i<len(a) or i<len(b):\n",
    "    if i<len(a):\n",
    "        r+=a[i]\n",
    "    if i<len(b):\n",
    "        r+=b[i]\n",
    "    i+=1    \n",
    "print(r)"
   ]
  },
  {
   "cell_type": "code",
   "execution_count": 17,
   "metadata": {},
   "outputs": [
    {
     "name": "stdout",
     "output_type": "stream",
     "text": [
      "abc\n",
      "123\n",
      "a1b2c3\n"
     ]
    }
   ],
   "source": [
    "#144\n",
    "ip='abc123'\n",
    "ip1=''\n",
    "ip2=''\n",
    "for i in ip:\n",
    "    if i>='a' and i<='z':\n",
    "        ip1+=i\n",
    "    elif i>='0' and i<='9':\n",
    "        ip2+=i\n",
    "res=''\n",
    "i=0\n",
    "while i<len(ip1) or i<len(ip2):\n",
    "    if i<len(ip1):\n",
    "        res+=ip1[i]\n",
    "    if i<len(ip2):\n",
    "        res+=ip2[i]\n",
    "    i+=1\n",
    "print(ip1)\n",
    "print(ip2)\n",
    "print(res)"
   ]
  }
 ],
 "metadata": {
  "kernelspec": {
   "display_name": "Python 3",
   "language": "python",
   "name": "python3"
  },
  "language_info": {
   "codemirror_mode": {
    "name": "ipython",
    "version": 3
   },
   "file_extension": ".py",
   "mimetype": "text/x-python",
   "name": "python",
   "nbconvert_exporter": "python",
   "pygments_lexer": "ipython3",
   "version": "3.11.0"
  }
 },
 "nbformat": 4,
 "nbformat_minor": 2
}
