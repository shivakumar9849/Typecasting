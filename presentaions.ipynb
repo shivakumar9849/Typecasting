{
 "cells": [
  {
   "cell_type": "code",
   "execution_count": 2,
   "metadata": {},
   "outputs": [
    {
     "name": "stdout",
     "output_type": "stream",
     "text": [
      "between 90 and 100\n",
      "shivas\n"
     ]
    }
   ],
   "source": [
    "str=input()\n",
    "str1=ord(str[0])\n",
    "str2=ord(str[-1])\n",
    "str3=ord(str[-2])\n",
    "if  str1==str2:\n",
    "    if str3>=90 and str3<=100:\n",
    "        print('between 90 and 100')\n",
    "    else:\n",
    "        print('not between 90 and 100')\n",
    "print(str)        \n",
    "\n"
   ]
  },
  {
   "cell_type": "code",
   "execution_count": 7,
   "metadata": {},
   "outputs": [
    {
     "name": "stdout",
     "output_type": "stream",
     "text": [
      "odd\n"
     ]
    }
   ],
   "source": [
    "st=input()\n",
    "st1=len(st)\n",
    "st2=chr(st1)\n",
    "if ord(st2) %2==0:\n",
    "    print('even')\n",
    "else:\n",
    "    print('odd')"
   ]
  },
  {
   "cell_type": "code",
   "execution_count": null,
   "metadata": {},
   "outputs": [],
   "source": []
  },
  {
   "cell_type": "code",
   "execution_count": 27,
   "metadata": {},
   "outputs": [
    {
     "name": "stdout",
     "output_type": "stream",
     "text": [
      "not equal\n",
      "124536987\n"
     ]
    }
   ],
   "source": [
    "st=input()\n",
    "mi=len(st)//2\n",
    "s=st[mi]\n",
    "s1=ord(s)\n",
    "s2=len(st)\n",
    "st2=c(s2)\n",
    "st3=ord(st2)\n",
    "if st3==s1:\n",
    "    print('equal')\n",
    "else:\n",
    "    print('not equal')\n",
    "print(st)"
   ]
  }
 ],
 "metadata": {
  "kernelspec": {
   "display_name": "Python 3",
   "language": "python",
   "name": "python3"
  },
  "language_info": {
   "codemirror_mode": {
    "name": "ipython",
    "version": 3
   },
   "file_extension": ".py",
   "mimetype": "text/x-python",
   "name": "python",
   "nbconvert_exporter": "python",
   "pygments_lexer": "ipython3",
   "version": "3.11.0"
  }
 },
 "nbformat": 4,
 "nbformat_minor": 2
}
