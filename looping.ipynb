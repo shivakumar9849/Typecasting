{
 "cells": [
  {
   "cell_type": "code",
   "execution_count": 2,
   "metadata": {},
   "outputs": [
    {
     "name": "stdout",
     "output_type": "stream",
     "text": [
      "1\n",
      "2\n",
      "3\n",
      "4\n",
      "5\n",
      "6\n",
      "7\n",
      "8\n",
      "9\n",
      "10\n",
      "11\n"
     ]
    }
   ],
   "source": [
    "a=1\n",
    "while a<=10:\n",
    "    print(a)\n",
    "    a+=1\n",
    "print(a)"
   ]
  },
  {
   "cell_type": "code",
   "execution_count": 25,
   "metadata": {},
   "outputs": [
    {
     "name": "stdout",
     "output_type": "stream",
     "text": [
      "\n",
      "s\n",
      "sh\n",
      "shi\n",
      "shiv\n",
      "shiva\n",
      "shiva \n",
      "shiva k\n",
      "shiva ku\n",
      "shiva kum\n",
      "shiva kuma\n",
      "shiva kumar\n"
     ]
    }
   ],
   "source": [
    "a=input()\n",
    "b=0\n",
    "while b<=len(a):\n",
    "    print(a[0:b]) \n",
    "    b+=1"
   ]
  },
  {
   "cell_type": "code",
   "execution_count": 41,
   "metadata": {},
   "outputs": [
    {
     "name": "stdout",
     "output_type": "stream",
     "text": [
      "0 even number\n",
      "2 even number\n",
      "4 even number\n",
      "6 even number\n",
      "8 even number\n",
      "10 even number\n",
      "12 even number\n",
      "14 even number\n",
      "16 even number\n",
      "18 even number\n",
      "20 even number\n",
      "22 even number\n",
      "24 even number\n",
      "26 even number\n",
      "28 even number\n",
      "30 even number\n",
      "32 even number\n",
      "34 even number\n",
      "36 even number\n",
      "38 even number\n",
      "40 even number\n",
      "42 even number\n",
      "44 even number\n",
      "46 even number\n",
      "48 even number\n",
      "50 even number\n"
     ]
    }
   ],
   "source": [
    "i=0\n",
    "while i<=50:\n",
    "    print(i,'even number')\n",
    "    i+=2"
   ]
  },
  {
   "cell_type": "code",
   "execution_count": 46,
   "metadata": {},
   "outputs": [
    {
     "name": "stdout",
     "output_type": "stream",
     "text": [
      "1 odd number\n",
      "3 odd number\n",
      "5 odd number\n",
      "7 odd number\n",
      "9 odd number\n",
      "11 odd number\n",
      "13 odd number\n",
      "15 odd number\n",
      "17 odd number\n",
      "19 odd number\n",
      "21 odd number\n",
      "23 odd number\n",
      "25 odd number\n",
      "27 odd number\n",
      "29 odd number\n",
      "31 odd number\n",
      "33 odd number\n",
      "35 odd number\n",
      "37 odd number\n",
      "39 odd number\n",
      "41 odd number\n",
      "43 odd number\n",
      "45 odd number\n",
      "47 odd number\n",
      "49 odd number\n"
     ]
    }
   ],
   "source": [
    "i=1\n",
    "while i<=50:\n",
    "    print(i,'odd number')\n",
    "    i+=2"
   ]
  },
  {
   "cell_type": "code",
   "execution_count": 48,
   "metadata": {},
   "outputs": [
    {
     "name": "stdout",
     "output_type": "stream",
     "text": [
      "-1 negative number\n",
      "-2 negative number\n",
      "-3 negative number\n",
      "-4 negative number\n",
      "-5 negative number\n",
      "-6 negative number\n",
      "-7 negative number\n",
      "-8 negative number\n",
      "-9 negative number\n",
      "-10 negative number\n",
      "-11 negative number\n",
      "-12 negative number\n",
      "-13 negative number\n",
      "-14 negative number\n",
      "-15 negative number\n",
      "-16 negative number\n",
      "-17 negative number\n",
      "-18 negative number\n",
      "-19 negative number\n",
      "-20 negative number\n"
     ]
    }
   ],
   "source": [
    "i=-1\n",
    "while i>=-20:\n",
    "    print(i,'negative number')\n",
    "    i-=1"
   ]
  },
  {
   "cell_type": "code",
   "execution_count": 2,
   "metadata": {},
   "outputs": [
    {
     "name": "stdout",
     "output_type": "stream",
     "text": [
      "15\n",
      "14\n",
      "13\n",
      "12\n",
      "11\n",
      "10\n",
      "9\n",
      "8\n",
      "7\n",
      "6\n",
      "5\n",
      "4\n",
      "3\n",
      "2\n",
      "1\n"
     ]
    }
   ],
   "source": [
    "i=1\n",
    "j=15\n",
    "while i<=15:\n",
    "    print(j)\n",
    "    i+=1\n",
    "    j-=1"
   ]
  },
  {
   "cell_type": "code",
   "execution_count": 3,
   "metadata": {},
   "outputs": [
    {
     "name": "stdout",
     "output_type": "stream",
     "text": [
      "15\n",
      "14\n",
      "13\n",
      "12\n",
      "11\n",
      "10\n",
      "9\n",
      "8\n",
      "7\n",
      "6\n",
      "5\n",
      "4\n",
      "3\n",
      "2\n",
      "1\n"
     ]
    }
   ],
   "source": [
    "i=15\n",
    "while i>0:\n",
    "    print(i)\n",
    "    i-=1"
   ]
  },
  {
   "cell_type": "code",
   "execution_count": 5,
   "metadata": {},
   "outputs": [
    {
     "name": "stdout",
     "output_type": "stream",
     "text": [
      "3\n",
      "6\n",
      "9\n",
      "12\n",
      "15\n",
      "18\n",
      "21\n",
      "24\n",
      "27\n",
      "30\n"
     ]
    }
   ],
   "source": [
    "i=3\n",
    "j=1\n",
    "while j<=10:\n",
    "    print(i*j)\n",
    "    j+=1"
   ]
  },
  {
   "cell_type": "code",
   "execution_count": 6,
   "metadata": {},
   "outputs": [
    {
     "name": "stdout",
     "output_type": "stream",
     "text": [
      "6\n",
      "8\n",
      "10\n",
      "12\n",
      "14\n",
      "16\n",
      "18\n",
      "20\n",
      "22\n",
      "24\n"
     ]
    }
   ],
   "source": [
    "i=6\n",
    "while i<=25:\n",
    " print(i)\n",
    " i+=2\n"
   ]
  },
  {
   "cell_type": "code",
   "execution_count": 15,
   "metadata": {},
   "outputs": [
    {
     "name": "stdout",
     "output_type": "stream",
     "text": [
      "15\n",
      "_\n"
     ]
    }
   ],
   "source": [
    "i=10\n",
    "while i<=25:\n",
    "    if i%3==0 and i%5==0:\n",
    "        print(i)\n",
    "    i+=1\n",
    "print('_')    "
   ]
  },
  {
   "cell_type": "code",
   "execution_count": 18,
   "metadata": {},
   "outputs": [
    {
     "name": "stdout",
     "output_type": "stream",
     "text": [
      "2\n",
      "4\n",
      "6\n"
     ]
    }
   ],
   "source": [
    "i=1\n",
    "while i<=15:\n",
    "    if i%2==0 and i<=6:\n",
    "        print(i)\n",
    "    i+=1\n"
   ]
  },
  {
   "cell_type": "code",
   "execution_count": 38,
   "metadata": {},
   "outputs": [
    {
     "name": "stdout",
     "output_type": "stream",
     "text": [
      "2\n"
     ]
    }
   ],
   "source": [
    "j=0\n",
    "i=1\n",
    "while i<=15:\n",
    "    if i%2==0 and  i<=3:\n",
    "        print(i)\n",
    "        j+=1\n",
    "    i+=1\n"
   ]
  }
 ],
 "metadata": {
  "kernelspec": {
   "display_name": "Python 3",
   "language": "python",
   "name": "python3"
  },
  "language_info": {
   "codemirror_mode": {
    "name": "ipython",
    "version": 3
   },
   "file_extension": ".py",
   "mimetype": "text/x-python",
   "name": "python",
   "nbconvert_exporter": "python",
   "pygments_lexer": "ipython3",
   "version": "3.11.0"
  }
 },
 "nbformat": 4,
 "nbformat_minor": 2
}
