{
 "cells": [
  {
   "cell_type": "markdown",
   "metadata": {},
   "source": [
    "WHILE LOOP STATEMENT"
   ]
  },
  {
   "cell_type": "code",
   "execution_count": 2,
   "metadata": {},
   "outputs": [
    {
     "name": "stdout",
     "output_type": "stream",
     "text": [
      "1\n",
      "2\n",
      "3\n",
      "4\n",
      "5\n",
      "6\n",
      "7\n",
      "8\n",
      "9\n",
      "10\n",
      "11\n"
     ]
    }
   ],
   "source": [
    "a=1\n",
    "while a<=10:\n",
    "    print(a)\n",
    "    a+=1\n",
    "print(a)"
   ]
  },
  {
   "cell_type": "code",
   "execution_count": 25,
   "metadata": {},
   "outputs": [
    {
     "name": "stdout",
     "output_type": "stream",
     "text": [
      "\n",
      "s\n",
      "sh\n",
      "shi\n",
      "shiv\n",
      "shiva\n",
      "shiva \n",
      "shiva k\n",
      "shiva ku\n",
      "shiva kum\n",
      "shiva kuma\n",
      "shiva kumar\n"
     ]
    }
   ],
   "source": [
    "a=input()\n",
    "b=0\n",
    "while b<=len(a):\n",
    "    print(a[0:b]) \n",
    "    b+=1"
   ]
  },
  {
   "cell_type": "code",
   "execution_count": 41,
   "metadata": {},
   "outputs": [
    {
     "name": "stdout",
     "output_type": "stream",
     "text": [
      "0 even number\n",
      "2 even number\n",
      "4 even number\n",
      "6 even number\n",
      "8 even number\n",
      "10 even number\n",
      "12 even number\n",
      "14 even number\n",
      "16 even number\n",
      "18 even number\n",
      "20 even number\n",
      "22 even number\n",
      "24 even number\n",
      "26 even number\n",
      "28 even number\n",
      "30 even number\n",
      "32 even number\n",
      "34 even number\n",
      "36 even number\n",
      "38 even number\n",
      "40 even number\n",
      "42 even number\n",
      "44 even number\n",
      "46 even number\n",
      "48 even number\n",
      "50 even number\n"
     ]
    }
   ],
   "source": [
    "i=0\n",
    "while i<=50:\n",
    "    print(i,'even number')\n",
    "    i+=2"
   ]
  },
  {
   "cell_type": "code",
   "execution_count": 46,
   "metadata": {},
   "outputs": [
    {
     "name": "stdout",
     "output_type": "stream",
     "text": [
      "1 odd number\n",
      "3 odd number\n",
      "5 odd number\n",
      "7 odd number\n",
      "9 odd number\n",
      "11 odd number\n",
      "13 odd number\n",
      "15 odd number\n",
      "17 odd number\n",
      "19 odd number\n",
      "21 odd number\n",
      "23 odd number\n",
      "25 odd number\n",
      "27 odd number\n",
      "29 odd number\n",
      "31 odd number\n",
      "33 odd number\n",
      "35 odd number\n",
      "37 odd number\n",
      "39 odd number\n",
      "41 odd number\n",
      "43 odd number\n",
      "45 odd number\n",
      "47 odd number\n",
      "49 odd number\n"
     ]
    }
   ],
   "source": [
    "i=1\n",
    "while i<=50:\n",
    "    print(i,'odd number')\n",
    "    i+=2"
   ]
  },
  {
   "cell_type": "code",
   "execution_count": 48,
   "metadata": {},
   "outputs": [
    {
     "name": "stdout",
     "output_type": "stream",
     "text": [
      "-1 negative number\n",
      "-2 negative number\n",
      "-3 negative number\n",
      "-4 negative number\n",
      "-5 negative number\n",
      "-6 negative number\n",
      "-7 negative number\n",
      "-8 negative number\n",
      "-9 negative number\n",
      "-10 negative number\n",
      "-11 negative number\n",
      "-12 negative number\n",
      "-13 negative number\n",
      "-14 negative number\n",
      "-15 negative number\n",
      "-16 negative number\n",
      "-17 negative number\n",
      "-18 negative number\n",
      "-19 negative number\n",
      "-20 negative number\n"
     ]
    }
   ],
   "source": [
    "i=-1\n",
    "while i>=-20:\n",
    "    print(i,'negative number')\n",
    "    i-=1"
   ]
  },
  {
   "cell_type": "code",
   "execution_count": 2,
   "metadata": {},
   "outputs": [
    {
     "name": "stdout",
     "output_type": "stream",
     "text": [
      "15\n",
      "14\n",
      "13\n",
      "12\n",
      "11\n",
      "10\n",
      "9\n",
      "8\n",
      "7\n",
      "6\n",
      "5\n",
      "4\n",
      "3\n",
      "2\n",
      "1\n"
     ]
    }
   ],
   "source": [
    "i=1\n",
    "j=15\n",
    "while i<=15:\n",
    "    print(j)\n",
    "    i+=1\n",
    "    j-=1"
   ]
  },
  {
   "cell_type": "code",
   "execution_count": 3,
   "metadata": {},
   "outputs": [
    {
     "name": "stdout",
     "output_type": "stream",
     "text": [
      "15\n",
      "14\n",
      "13\n",
      "12\n",
      "11\n",
      "10\n",
      "9\n",
      "8\n",
      "7\n",
      "6\n",
      "5\n",
      "4\n",
      "3\n",
      "2\n",
      "1\n"
     ]
    }
   ],
   "source": [
    "i=15\n",
    "while i>0:\n",
    "    print(i)\n",
    "    i-=1"
   ]
  },
  {
   "cell_type": "code",
   "execution_count": 5,
   "metadata": {},
   "outputs": [
    {
     "name": "stdout",
     "output_type": "stream",
     "text": [
      "3\n",
      "6\n",
      "9\n",
      "12\n",
      "15\n",
      "18\n",
      "21\n",
      "24\n",
      "27\n",
      "30\n"
     ]
    }
   ],
   "source": [
    "i=3\n",
    "j=1\n",
    "while j<=10:\n",
    "    print(i*j)\n",
    "    j+=1"
   ]
  },
  {
   "cell_type": "code",
   "execution_count": 6,
   "metadata": {},
   "outputs": [
    {
     "name": "stdout",
     "output_type": "stream",
     "text": [
      "6\n",
      "8\n",
      "10\n",
      "12\n",
      "14\n",
      "16\n",
      "18\n",
      "20\n",
      "22\n",
      "24\n"
     ]
    }
   ],
   "source": [
    "i=6\n",
    "while i<=25:\n",
    " print(i)\n",
    " i+=2\n"
   ]
  },
  {
   "cell_type": "code",
   "execution_count": 15,
   "metadata": {},
   "outputs": [
    {
     "name": "stdout",
     "output_type": "stream",
     "text": [
      "15\n",
      "_\n"
     ]
    }
   ],
   "source": [
    "i=10\n",
    "while i<=25:\n",
    "    if i%3==0 and i%5==0:\n",
    "        print(i)\n",
    "    i+=1\n",
    "print('_')    "
   ]
  },
  {
   "cell_type": "code",
   "execution_count": 18,
   "metadata": {},
   "outputs": [
    {
     "name": "stdout",
     "output_type": "stream",
     "text": [
      "2\n",
      "4\n",
      "6\n"
     ]
    }
   ],
   "source": [
    "i=1\n",
    "while i<=15:\n",
    "    if i%2==0 and i<=6:\n",
    "        print(i)\n",
    "    i+=1\n"
   ]
  },
  {
   "cell_type": "code",
   "execution_count": 38,
   "metadata": {},
   "outputs": [
    {
     "name": "stdout",
     "output_type": "stream",
     "text": [
      "2\n"
     ]
    }
   ],
   "source": [
    "j=0\n",
    "i=1\n",
    "while i<=15:\n",
    "    if i%2==0 and  i<=3:\n",
    "        print(i)\n",
    "        j+=1\n",
    "    i+=1\n"
   ]
  },
  {
   "cell_type": "code",
   "execution_count": 1,
   "metadata": {},
   "outputs": [
    {
     "name": "stdout",
     "output_type": "stream",
     "text": [
      "8\n",
      "4\n"
     ]
    }
   ],
   "source": [
    "c=0\n",
    "a=1\n",
    "b=int(input())\n",
    "print(b)\n",
    "while a<=b:\n",
    "    if b%a==0:\n",
    "        c+=1\n",
    "    a+=1\n",
    "print(c)"
   ]
  },
  {
   "cell_type": "code",
   "execution_count": 13,
   "metadata": {},
   "outputs": [
    {
     "name": "stdout",
     "output_type": "stream",
     "text": [
      "20\n",
      "42\n"
     ]
    }
   ],
   "source": [
    "c=0\n",
    "a=1\n",
    "b=int(input())\n",
    "print(b)\n",
    "while a<=b:\n",
    "    if b%a==0:\n",
    "        c=c+a\n",
    "    a+=1\n",
    "print(c)    "
   ]
  },
  {
   "cell_type": "code",
   "execution_count": 17,
   "metadata": {},
   "outputs": [
    {
     "name": "stdout",
     "output_type": "stream",
     "text": [
      "5\n",
      "odd\n",
      "15\n"
     ]
    }
   ],
   "source": [
    "c=0\n",
    "a=1\n",
    "b=5\n",
    "while a<=b:\n",
    "    c=c+a\n",
    "    a+=1\n",
    "if b%2==0:\n",
    "    print('even')\n",
    "else:\n",
    "    print('odd')\n",
    "print(c)    "
   ]
  },
  {
   "cell_type": "code",
   "execution_count": 25,
   "metadata": {},
   "outputs": [
    {
     "name": "stdout",
     "output_type": "stream",
     "text": [
      "divisible by 3\n"
     ]
    }
   ],
   "source": [
    "p=1\n",
    "a=4\n",
    "b=1\n",
    "while b<=a:\n",
    "    p=p*a\n",
    "    a-=1\n",
    "if p%3==0:\n",
    "    print('divisible by 3')\n",
    "else:\n",
    "    print('not divisibel by 3')\n",
    "   "
   ]
  },
  {
   "cell_type": "code",
   "execution_count": 25,
   "metadata": {},
   "outputs": [
    {
     "name": "stdout",
     "output_type": "stream",
     "text": [
      "0\n",
      "not equal\n"
     ]
    }
   ],
   "source": [
    "c=0\n",
    "n1=1\n",
    "n2=int(input())\n",
    "n3=int(input())\n",
    "while n1<=n2:\n",
    "  if n1%n3==0:\n",
    "      c+=1\n",
    "  n1+=1\n",
    "print(c)\n",
    "if (c==2):\n",
    "   print('equal')\n",
    "else:\n",
    "   print('not equal')\n",
    "    "
   ]
  },
  {
   "cell_type": "code",
   "execution_count": 29,
   "metadata": {},
   "outputs": [
    {
     "name": "stdout",
     "output_type": "stream",
     "text": [
      "15\n"
     ]
    }
   ],
   "source": [
    "sum=0\n",
    "i=1\n",
    "while i<=5:\n",
    "    sum=sum+i\n",
    "    i+=1\n",
    "print(sum)    "
   ]
  },
  {
   "cell_type": "code",
   "execution_count": 34,
   "metadata": {},
   "outputs": [
    {
     "name": "stdout",
     "output_type": "stream",
     "text": [
      "39\n"
     ]
    }
   ],
   "source": [
    "i=11\n",
    "sum=0\n",
    "while i<=15:\n",
    "    if i%2==1:\n",
    "        sum=sum+i\n",
    "    i+=1\n",
    "print(sum)        "
   ]
  },
  {
   "cell_type": "code",
   "execution_count": 5,
   "metadata": {},
   "outputs": [
    {
     "name": "stdout",
     "output_type": "stream",
     "text": [
      "5\n",
      "prime number\n"
     ]
    }
   ],
   "source": [
    "a=int(input())\n",
    "print(a)\n",
    "i=1\n",
    "c=0\n",
    "while i<=a:\n",
    "    if a%i==0:\n",
    "        c+=1\n",
    "    i+=1\n",
    "if c==2:\n",
    "    print('prime number')\n",
    "else:\n",
    "    print('not a prime number')"
   ]
  },
  {
   "cell_type": "code",
   "execution_count": 13,
   "metadata": {},
   "outputs": [
    {
     "name": "stdout",
     "output_type": "stream",
     "text": [
      "perfect num\n"
     ]
    }
   ],
   "source": [
    "a=int(input())\n",
    "i=1\n",
    "sum=0\n",
    "while i<a:\n",
    "    if a%i==0:\n",
    "        sum=sum+i\n",
    "    i+=1\n",
    "if sum==a:\n",
    "    print('perfect num')\n",
    "else:\n",
    "    print('not a perfect num')"
   ]
  },
  {
   "cell_type": "code",
   "execution_count": 7,
   "metadata": {},
   "outputs": [
    {
     "name": "stdout",
     "output_type": "stream",
     "text": [
      "s2h2i2v2a2\n"
     ]
    }
   ],
   "source": [
    "st=input()\n",
    "i=0\n",
    "c=1\n",
    "res=''\n",
    "while i<len(st)-1:\n",
    "    ch=st[i]\n",
    "    ch1=st[i+1]\n",
    "    if ch!=ch1:\n",
    "        res=res+ch+str(c)\n",
    "        c=1\n",
    "    else:\n",
    "        c+=1\n",
    "    i+=1\n",
    "res+=st[-1]+str(c)\n",
    "print(res)"
   ]
  },
  {
   "cell_type": "code",
   "execution_count": 16,
   "metadata": {},
   "outputs": [
    {
     "name": "stdout",
     "output_type": "stream",
     "text": [
      "shiva\n"
     ]
    }
   ],
   "source": [
    "st=input()\n",
    "res=''\n",
    "for i in st:\n",
    "    res+=i\n",
    "print(res)"
   ]
  },
  {
   "cell_type": "code",
   "execution_count": 19,
   "metadata": {},
   "outputs": [
    {
     "name": "stdout",
     "output_type": "stream",
     "text": [
      "avihs\n"
     ]
    }
   ],
   "source": [
    "st=input()\n",
    "res=''\n",
    "for i in st:\n",
    "    res+=i\n",
    "print(st[::-1])"
   ]
  },
  {
   "cell_type": "code",
   "execution_count": 22,
   "metadata": {},
   "outputs": [
    {
     "name": "stdout",
     "output_type": "stream",
     "text": [
      "sh\n"
     ]
    }
   ],
   "source": [
    "st=input()\n",
    "res=''\n",
    "i=0\n",
    "while i<len(st)//2:\n",
    "    ch=st[i]\n",
    "    res=res+ch\n",
    "    i+=1\n",
    "print(res)"
   ]
  },
  {
   "cell_type": "markdown",
   "metadata": {},
   "source": [
    "ASSIGNMENT\n"
   ]
  },
  {
   "cell_type": "code",
   "execution_count": 54,
   "metadata": {},
   "outputs": [
    {
     "name": "stdout",
     "output_type": "stream",
     "text": [
      "shiva@1223\n",
      "8\n"
     ]
    }
   ],
   "source": [
    "st=input()\n",
    "print(st)\n",
    "sum=0\n",
    "for i in st:\n",
    "    if i>='0' and i<='9':\n",
    "        ch=int(i)\n",
    "        sum+=ch\n",
    "print(sum)"
   ]
  },
  {
   "cell_type": "code",
   "execution_count": 26,
   "metadata": {},
   "outputs": [
    {
     "name": "stdout",
     "output_type": "stream",
     "text": [
      "shivaa\n",
      "a\n",
      "shiva\n"
     ]
    }
   ],
   "source": [
    "st=input()\n",
    "print(st)\n",
    "st1=input()\n",
    "print(st1)\n",
    "i=0\n",
    "c=0\n",
    "while i<len(st)-1:\n",
    "    if st[i]==st1:\n",
    "        c+=1\n",
    "        if c<=1:\n",
    "            print(i)\n",
    "    i+=1"
   ]
  },
  {
   "cell_type": "code",
   "execution_count": 21,
   "metadata": {},
   "outputs": [
    {
     "name": "stdout",
     "output_type": "stream",
     "text": [
      "shivaa\n",
      "a\n",
      "5\n"
     ]
    }
   ],
   "source": [
    "st=input()\n",
    "print(st)\n",
    "st1=input()\n",
    "print(st1)\n",
    "i=len(st)-1\n",
    "c=0\n",
    "while i>0:\n",
    "    if st[i]==st1:\n",
    "        c+=1\n",
    "        if c<=1:\n",
    "            print(i)\n",
    "    i-=1"
   ]
  },
  {
   "cell_type": "code",
   "execution_count": 22,
   "metadata": {},
   "outputs": [
    {
     "name": "stdout",
     "output_type": "stream",
     "text": [
      "RAMANUJAN\n",
      "A\n",
      "3\n",
      "7\n"
     ]
    }
   ],
   "source": [
    "st=input()\n",
    "print(st)\n",
    "st1=input()\n",
    "print(st1)\n",
    "i=0\n",
    "c=0\n",
    "while i<len(st)-1:\n",
    "    if st[i]==st1:\n",
    "        c+=1\n",
    "        if c!=1:\n",
    "            print(i)\n",
    "    i+=1"
   ]
  },
  {
   "cell_type": "code",
   "execution_count": 23,
   "metadata": {},
   "outputs": [
    {
     "name": "stdout",
     "output_type": "stream",
     "text": [
      "RAMANUJAN\n",
      "A\n",
      "3\n",
      "1\n"
     ]
    }
   ],
   "source": [
    "st=input()\n",
    "print(st)\n",
    "st1=input()\n",
    "print(st1)\n",
    "i=len(st)-1\n",
    "c=0\n",
    "while i>0:\n",
    "    if st[i]==st1:\n",
    "        c+=1\n",
    "        if c!=1:\n",
    "            print(i)\n",
    "    i-=1"
   ]
  },
  {
   "cell_type": "code",
   "execution_count": 27,
   "metadata": {},
   "outputs": [
    {
     "name": "stdout",
     "output_type": "stream",
     "text": [
      "shivaa\n",
      "a\n",
      "shiva\n"
     ]
    }
   ],
   "source": [
    "st=input()\n",
    "print(st)\n",
    "st1=input()\n",
    "print(st1)\n",
    "i=0\n",
    "c=0\n",
    "while i<len(st)-1:\n",
    "    if st[i]==st1:\n",
    "        c+=1\n",
    "        if c<=1:\n",
    "            print(st[0:i]+st[i+1:])\n",
    "    i+=1"
   ]
  },
  {
   "cell_type": "code",
   "execution_count": 28,
   "metadata": {},
   "outputs": [
    {
     "name": "stdout",
     "output_type": "stream",
     "text": [
      "shivana\n",
      "a\n",
      "shivan\n"
     ]
    }
   ],
   "source": [
    "st=input()\n",
    "print(st)\n",
    "st1=input()\n",
    "print(st1)\n",
    "i=len(st)-1\n",
    "c=0\n",
    "while i>0:\n",
    "    if st[i]==st1:\n",
    "        c+=1\n",
    "        if c<=1:\n",
    "            print(st[0:i]+st[i+1:])\n",
    "    i-=1"
   ]
  },
  {
   "cell_type": "code",
   "execution_count": 40,
   "metadata": {},
   "outputs": [
    {
     "name": "stdout",
     "output_type": "stream",
     "text": [
      "shivaa\n",
      "a\n",
      "2\n"
     ]
    }
   ],
   "source": [
    "st=input()\n",
    "print(st)\n",
    "st1=input()\n",
    "print(st1)\n",
    "i=0\n",
    "c=0\n",
    "while i<len(st):\n",
    "    if st[i]==st1:\n",
    "        c+=1\n",
    "    i+=1\n",
    "print(c)"
   ]
  },
  {
   "cell_type": "markdown",
   "metadata": {},
   "source": []
  },
  {
   "cell_type": "code",
   "execution_count": null,
   "metadata": {},
   "outputs": [],
   "source": []
  },
  {
   "cell_type": "code",
   "execution_count": null,
   "metadata": {},
   "outputs": [],
   "source": []
  }
 ],
 "metadata": {
  "kernelspec": {
   "display_name": "Python 3",
   "language": "python",
   "name": "python3"
  },
  "language_info": {
   "codemirror_mode": {
    "name": "ipython",
    "version": 3
   },
   "file_extension": ".py",
   "mimetype": "text/x-python",
   "name": "python",
   "nbconvert_exporter": "python",
   "pygments_lexer": "ipython3",
   "version": "3.11.0"
  }
 },
 "nbformat": 4,
 "nbformat_minor": 2
}
