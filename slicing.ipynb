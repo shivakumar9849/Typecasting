{
 "cells": [
  {
   "cell_type": "code",
   "execution_count": 40,
   "metadata": {},
   "outputs": [
    {
     "name": "stdout",
     "output_type": "stream",
     "text": [
      "[1, 2]\n",
      "[3, 'jack sparow']\n",
      "wayne\n",
      " city\n",
      "['manchester city', 'wayne rooney']\n",
      "[3, 2, 1]\n",
      "['wayne rooney', 3, 1]\n",
      "['manchester city', 'jack sparow']\n",
      "spa\n",
      "roo\n",
      "ytic\n",
      "jack\n",
      "jk\n",
      "roe\n",
      "saow\n",
      "woraps kcaj\n"
     ]
    }
   ],
   "source": [
    "l=[1,2,3,'jack sparow','wayne rooney','manchester city']\n",
    "print(l[0:2])\n",
    "print(str(l[2:4]))\n",
    "print(str(l[4][0:5]))\n",
    "print(str(l[5][10:]))\n",
    "print(str(l[5:3:-1]))\n",
    "print(str(l[2::-1]))\n",
    "print(str(l[4::-2]))\n",
    "print(str(l[5:2:-2]))\n",
    "print((l[3][5:8]))\n",
    "print(l[4][6:9])\n",
    "print(l[5][14:10:-1])\n",
    "print(l[3][:4])\n",
    "print(l[3][:4:3])\n",
    "print(l[4][6::2])\n",
    "a=l[3][5:8:2]\n",
    "b=l[3][9:]\n",
    "print(a+b)\n",
    "print(l[3][::-1])"
   ]
  },
  {
   "cell_type": "markdown",
   "metadata": {},
   "source": [
    "WITH OUT STEP"
   ]
  },
  {
   "cell_type": "code",
   "execution_count": 12,
   "metadata": {},
   "outputs": [
    {
     "name": "stdout",
     "output_type": "stream",
     "text": [
      "Ramanujan\n",
      "Rama\n",
      "jan\n",
      "\n",
      "\n",
      "u\n",
      "uja\n",
      "manuja\n",
      "Ram\n",
      "anuja\n",
      "amanu\n"
     ]
    }
   ],
   "source": [
    "st='Ramanujan'\n",
    "print(st[:])\n",
    "print(st[:4])\n",
    "print(st[6:])\n",
    "print(st[6:3])\n",
    "print(st[-4:5])\n",
    "print(st[-4:6])\n",
    "print(st[-4:-1])\n",
    "print(st[-7:-1])\n",
    "print(st[:3])\n",
    "print(st[3:-1])\n",
    "print(st[-8:-3])"
   ]
  },
  {
   "cell_type": "markdown",
   "metadata": {},
   "source": [
    "WITH STEP\n"
   ]
  },
  {
   "cell_type": "code",
   "execution_count": 21,
   "metadata": {},
   "outputs": [
    {
     "name": "stdout",
     "output_type": "stream",
     "text": [
      "njnmR\n",
      "Ra\n",
      "ju\n",
      "m\n",
      "num\n",
      "Rnn\n",
      "Raman\n",
      "unamaR\n"
     ]
    }
   ],
   "source": [
    "st='Ramanujan'\n",
    "print(st[::-2])\n",
    "print(st[:4:3])\n",
    "print(st[6:4:-1])\n",
    "print(st[-7:4:2])\n",
    "print(st[::-3])\n",
    "print(st[::4])\n",
    "print(st[:5:1])\n",
    "print(st[5::-1])"
   ]
  },
  {
   "cell_type": "code",
   "execution_count": 39,
   "metadata": {},
   "outputs": [
    {
     "name": "stdout",
     "output_type": "stream",
     "text": [
      "jor\n",
      "will\n",
      "james\n",
      "[40, 200, 300]\n",
      "{'name': 'meason mount', 'age': 24, 'club': 'chelsea'}\n",
      "mount\n",
      "['name', 'age', 'club']\n",
      "chelsea\n",
      "42\n",
      "540\n",
      "['club', 'age']\n"
     ]
    }
   ],
   "source": [
    "l=[\"jordan\",\"willblake\", [300,200,40,\"james willson\"] ,{1:{'name':'meason mount','age':24,'club':'chelsea'}}]\n",
    "print(l[0][:3])\n",
    "print(l[1][:4])\n",
    "print(l[2][3][:5])\n",
    "print(l[2][2::-1])\n",
    "print(l[3][1])\n",
    "print(l[3][1]['name'][7:])\n",
    "print(list(l[3][1]))\n",
    "print(l[3][1]['club'])\n",
    "print(str(l[3][1]['age'])[::-1])\n",
    "print(l[2][0]+l[2][1]+l[2][2])\n",
    "print(list(l[3][1])[2:0:-1])"
   ]
  },
  {
   "cell_type": "code",
   "execution_count": 15,
   "metadata": {},
   "outputs": [
    {
     "name": "stdout",
     "output_type": "stream",
     "text": [
      "oneplus\n",
      "apple\n",
      "venu\n",
      "gopal\n",
      "Amaresh\n",
      "anaconda\n",
      "elppa\n",
      "sulp\n",
      "['apple', 'oneplus']\n",
      "ana\n",
      "resh\n",
      "lap\n",
      "pp\n",
      "hse\n",
      "oneplusapple\n",
      "venuresh\n"
     ]
    }
   ],
   "source": [
    "d={1:['oneplus','apple'],2:{'name1':'venugopal','name2':'Amaresh'},'a':'anaconda'}\n",
    "print(d[1][0])\n",
    "print(d[1][1])\n",
    "print(d[2]['name1'][:4])\n",
    "print(d[2]['name1'][4:])\n",
    "print(d[2]['name2'])\n",
    "print(d['a'])\n",
    "print(d[1][1][::-1])\n",
    "print(d[1][0][6:2:-1])\n",
    "print(d[1][::-1])\n",
    "print(d['a'][:3])\n",
    "print(d[2]['name2'][3:])\n",
    "print(d[2]['name1'][8:5:-1])\n",
    "print(d[1][1][1:3])\n",
    "print(d[2]['name2'][6:3:-1])\n",
    "print(d[1][0] + d[1][1])\n",
    "print(d[2]['name1'][:4] + d[2]['name2'][3:])\n",
    "\n"
   ]
  }
 ],
 "metadata": {
  "kernelspec": {
   "display_name": "Python 3",
   "language": "python",
   "name": "python3"
  },
  "language_info": {
   "codemirror_mode": {
    "name": "ipython",
    "version": 3
   },
   "file_extension": ".py",
   "mimetype": "text/x-python",
   "name": "python",
   "nbconvert_exporter": "python",
   "pygments_lexer": "ipython3",
   "version": "3.11.0"
  }
 },
 "nbformat": 4,
 "nbformat_minor": 2
}
